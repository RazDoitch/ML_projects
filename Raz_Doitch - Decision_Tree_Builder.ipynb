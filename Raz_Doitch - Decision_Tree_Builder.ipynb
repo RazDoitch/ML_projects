{
 "cells": [
  {
   "cell_type": "markdown",
   "metadata": {},
   "source": [
    "ID #1: 317887230\n",
    "\n",
    "ID #2: 315372540"
   ]
  },
  {
   "cell_type": "markdown",
   "metadata": {
    "nbgrader": {
     "grade": false,
     "grade_id": "cell-6bd0516e7cb654f5",
     "locked": true,
     "schema_version": 1,
     "solution": false
    }
   },
   "source": [
    "# Exercise 2: Decision Trees\n",
    "\n",
    "In this assignment you will implement a Decision Tree algorithm as learned in class.\n",
    "\n",
    "## Read the following instructions carefully:\n",
    "\n",
    "1. This jupyter notebook contains all the step by step instructions needed for this exercise.\n",
    "1. Submission includes this notebook only with the exercise number and your ID as the filename. For example: `hw2_123456789_987654321.ipynb` if you submitted in pairs and `hw2_123456789.ipynb` if you submitted the exercise alone.\n",
    "1. Write **efficient vectorized** code whenever possible. Some calculations in this exercise take several minutes when implemented efficiently, and might take much longer otherwise. Unnecessary loops will result in point deduction.\n",
    "1. You are responsible for the correctness of your code and should add as many tests as you see fit. Tests will not be graded nor checked.\n",
    "1. Write your functions in this notebook only. **Do not create Python modules and import them**.\n",
    "1. You are allowed to use functions and methods from the [Python Standard Library](https://docs.python.org/3/library/) and [numpy](https://www.numpy.org/devdocs/reference/) only. **Do not import anything else.**\n",
    "\n",
    "## In this exercise you will perform the following:\n",
    "1. Practice OOP in python.\n",
    "2. Implement two impurity measures: Gini and Entropy.\n",
    "3. Construct a decision tree algorithm.\n",
    "4. Prune the tree to achieve better results.\n",
    "5. Visualize your results."
   ]
  },
  {
   "cell_type": "markdown",
   "metadata": {},
   "source": [
    "# I have read and understood the instructions: 317887230, 315372540 "
   ]
  },
  {
   "cell_type": "code",
   "execution_count": 1,
   "metadata": {
    "nbgrader": {
     "grade": false,
     "grade_id": "cell-ed9fe7b1026e33cb",
     "locked": true,
     "schema_version": 1,
     "solution": false
    }
   },
   "outputs": [],
   "source": [
    "import numpy as np\n",
    "import pandas as pd\n",
    "import matplotlib.pyplot as plt\n",
    "import math\n",
    "import operator\n",
    "\n",
    "\n",
    "# make matplotlib figures appear inline in the notebook\n",
    "%matplotlib inline\n",
    "plt.rcParams['figure.figsize'] = (10.0, 8.0) # set default size of plots\n",
    "plt.rcParams['image.interpolation'] = 'nearest'\n",
    "plt.rcParams['image.cmap'] = 'gray'\n",
    "\n",
    "# Ignore warnings\n",
    "import warnings\n",
    "warnings.filterwarnings('ignore')"
   ]
  },
  {
   "cell_type": "markdown",
   "metadata": {
    "nbgrader": {
     "grade": false,
     "grade_id": "cell-c6ac605270c2b091",
     "locked": true,
     "schema_version": 1,
     "solution": false
    }
   },
   "source": [
    "## Warmup - OOP in python\n",
    "\n",
    "Our desicion tree will be implemented using a dedicated python class. Python classes are very similar to classes in Java.\n",
    "\n",
    "\n",
    "You can use the following [site](https://jeffknupp.com/blog/2014/06/18/improve-your-python-python-classes-and-object-oriented-programming/) to learn about classes in python."
   ]
  },
  {
   "cell_type": "code",
   "execution_count": 2,
   "metadata": {},
   "outputs": [],
   "source": [
    "class Node(object):\n",
    "    def __init__(self, data):\n",
    "        self.data = data\n",
    "        self.children = []\n",
    "\n",
    "    def add_child(self, node):\n",
    "        self.children.append(node)"
   ]
  },
  {
   "cell_type": "code",
   "execution_count": 3,
   "metadata": {},
   "outputs": [
    {
     "data": {
      "text/plain": [
       "[<__main__.Node at 0x7ff0401cda00>, <__main__.Node at 0x7ff0401cdcd0>]"
      ]
     },
     "execution_count": 3,
     "metadata": {},
     "output_type": "execute_result"
    }
   ],
   "source": [
    "n = Node(5)\n",
    "p = Node(6)\n",
    "q = Node(7)\n",
    "n.add_child(p)\n",
    "n.add_child(q)\n",
    "n.children"
   ]
  },
  {
   "cell_type": "markdown",
   "metadata": {
    "nbgrader": {
     "grade": false,
     "grade_id": "cell-2f1ceb251c649b62",
     "locked": true,
     "schema_version": 1,
     "solution": false
    }
   },
   "source": [
    "## Data preprocessing\n",
    "\n",
    "For the following exercise, we will use a dataset containing mushroom data `agaricus-lepiota.csv`. \n",
    "\n",
    "This data set includes descriptions of hypothetical samples corresponding to 23 species of gilled mushrooms in the Agaricus and Lepiota Family. Each species is identified as definitely edible, definitely poisonous, or of unknown edibility and not recommended. This latter class was combined with the poisonous\n",
    "one (=there are only two classes **edible** and **poisonous**). \n",
    "    \n",
    "The dataset contains 8124 observations with 22 features:\n",
    "1. cap-shape: bell=b,conical=c,convex=x,flat=f,knobbed=k,sunken=s\n",
    "2. cap-surface: fibrous=f,grooves=g,scaly=y,smooth=s\n",
    "3. cap-color: brown=n,buff=b,cinnamon=c,gray=g,green=r,pink=p,purple=u,red=e,white=w,yellow=y\n",
    "4. bruises: bruises=t,no=f\n",
    "5. odor: almond=a,anise=l,creosote=c,fishy=y,foul=f, musty=m,none=n,pungent=p,spicy=s\n",
    "6. gill-attachment: attached=a,descending=d,free=f,notched=n\n",
    "7. gill-spacing: close=c,crowded=w,distant=d\n",
    "8. gill-size: broad=b,narrow=n\n",
    "9. gill-color: black=k,brown=n,buff=b,chocolate=h,gray=g,green=r,orange=o,pink=p,purple=u,red=e,white=w,yellow=y\n",
    "10. stalk-shape: enlarging=e,tapering=t\n",
    "11. stalk-root: bulbous=b,club=c,cup=u,equal=e,rhizomorphs=z,rooted=r\n",
    "12. stalk-surface-above-ring: fibrous=f,scaly=y,silky=k,smooth=s\n",
    "13. stalk-surface-below-ring: fibrous=f,scaly=y,silky=k,smooth=s\n",
    "14. stalk-color-above-ring: brown=n,buff=b,cinnamon=c,gray=g,orange=o,pink=p,red=e,white=w,yellow=y\n",
    "15. stalk-color-below-ring: brown=n,buff=b,cinnamon=c,gray=g,orange=o,pink=p,red=e,white=w,yellow=y\n",
    "16. veil-type: partial=p,universal=u\n",
    "17. veil-color: brown=n,orange=o,white=w,yellow=y\n",
    "18. ring-number: none=n,one=o,two=t\n",
    "19. ring-type: cobwebby=c,evanescent=e,flaring=f,large=l,none=n,pendant=p,sheathing=s,zone=z\n",
    "20. spore-print-color: black=k,brown=n,buff=b,chocolate=h,green=r,orange=o,purple=u,white=w,yellow=y\n",
    "21. population: abundant=a,clustered=c,numerous=n,scattered=s,several=v,solitary=y\n",
    "22. habitat: grasses=g,leaves=l,meadows=m,paths=p,urban=u,waste=w,woods=d\n",
    "\n",
    "First, we will read and explore the data using pandas and the `.read_csv` method. Pandas is an open source library providing high-performance, easy-to-use data structures and data analysis tools for the Python programming language."
   ]
  },
  {
   "cell_type": "code",
   "execution_count": 4,
   "metadata": {
    "nbgrader": {
     "grade": false,
     "grade_id": "cell-d79cb4542926ad3f",
     "locked": true,
     "schema_version": 1,
     "solution": false
    }
   },
   "outputs": [],
   "source": [
    "# load dataset\n",
    "data = pd.read_csv('agaricus-lepiota.csv')"
   ]
  },
  {
   "cell_type": "markdown",
   "metadata": {},
   "source": [
    "One of the advantages of the Decision Tree algorithm is that almost no preprocessing is required. However, finding missing values is always required."
   ]
  },
  {
   "cell_type": "code",
   "execution_count": 5,
   "metadata": {},
   "outputs": [],
   "source": [
    "def remove_nas(data):\n",
    "    percent_missing = data.isnull().sum() * 100 / len(data)\n",
    "    missing_value_df = pd.DataFrame({'column_name': data.columns,'percent_missing': percent_missing})\n",
    "\n",
    "    missing_value_df.sort_values(by=['percent_missing'])\n",
    "    missing_value_df = missing_value_df.loc[((missing_value_df['percent_missing'] >= 1))]\n",
    "\n",
    "    list_of_features_to_remove = missing_value_df['column_name'].tolist()\n",
    "\n",
    "    data.drop(list_of_features_to_remove, inplace = True)\n",
    "    return data\n",
    "\n",
    "data = remove_nas(data)"
   ]
  },
  {
   "cell_type": "markdown",
   "metadata": {},
   "source": [
    "We will split the dataset to `Training` and `Testing` datasets."
   ]
  },
  {
   "cell_type": "code",
   "execution_count": 6,
   "metadata": {},
   "outputs": [
    {
     "name": "stdout",
     "output_type": "stream",
     "text": [
      "Training dataset shape:  (6093, 22)\n",
      "Testing dataset shape:  (2031, 22)\n"
     ]
    }
   ],
   "source": [
    "from sklearn.model_selection import train_test_split\n",
    "# Making sure the last column will hold the labels\n",
    "X, y = data.drop('class', axis=1), data['class']\n",
    "X = np.column_stack([X,y])\n",
    "# split dataset using random_state to get the same split each time\n",
    "X_train, X_test = train_test_split(X, random_state=99)\n",
    "\n",
    "print(\"Training dataset shape: \", X_train.shape)\n",
    "print(\"Testing dataset shape: \", X_test.shape)"
   ]
  },
  {
   "cell_type": "code",
   "execution_count": 7,
   "metadata": {},
   "outputs": [
    {
     "data": {
      "text/plain": [
       "(8124,)"
      ]
     },
     "execution_count": 7,
     "metadata": {},
     "output_type": "execute_result"
    }
   ],
   "source": [
    "y.shape"
   ]
  },
  {
   "cell_type": "code",
   "execution_count": 8,
   "metadata": {},
   "outputs": [],
   "source": [
    "X_train = pd.DataFrame(X_train)\n",
    "X_test = pd.DataFrame(X_test)"
   ]
  },
  {
   "cell_type": "code",
   "execution_count": 9,
   "metadata": {},
   "outputs": [
    {
     "data": {
      "text/html": [
       "<div>\n",
       "<style scoped>\n",
       "    .dataframe tbody tr th:only-of-type {\n",
       "        vertical-align: middle;\n",
       "    }\n",
       "\n",
       "    .dataframe tbody tr th {\n",
       "        vertical-align: top;\n",
       "    }\n",
       "\n",
       "    .dataframe thead th {\n",
       "        text-align: right;\n",
       "    }\n",
       "</style>\n",
       "<table border=\"1\" class=\"dataframe\">\n",
       "  <thead>\n",
       "    <tr style=\"text-align: right;\">\n",
       "      <th></th>\n",
       "      <th>0</th>\n",
       "      <th>1</th>\n",
       "      <th>2</th>\n",
       "      <th>3</th>\n",
       "      <th>4</th>\n",
       "      <th>5</th>\n",
       "      <th>6</th>\n",
       "      <th>7</th>\n",
       "      <th>8</th>\n",
       "      <th>9</th>\n",
       "      <th>...</th>\n",
       "      <th>12</th>\n",
       "      <th>13</th>\n",
       "      <th>14</th>\n",
       "      <th>15</th>\n",
       "      <th>16</th>\n",
       "      <th>17</th>\n",
       "      <th>18</th>\n",
       "      <th>19</th>\n",
       "      <th>20</th>\n",
       "      <th>21</th>\n",
       "    </tr>\n",
       "  </thead>\n",
       "  <tbody>\n",
       "    <tr>\n",
       "      <th>0</th>\n",
       "      <td>x</td>\n",
       "      <td>s</td>\n",
       "      <td>y</td>\n",
       "      <td>t</td>\n",
       "      <td>l</td>\n",
       "      <td>f</td>\n",
       "      <td>c</td>\n",
       "      <td>b</td>\n",
       "      <td>w</td>\n",
       "      <td>e</td>\n",
       "      <td>...</td>\n",
       "      <td>w</td>\n",
       "      <td>w</td>\n",
       "      <td>p</td>\n",
       "      <td>w</td>\n",
       "      <td>o</td>\n",
       "      <td>p</td>\n",
       "      <td>n</td>\n",
       "      <td>n</td>\n",
       "      <td>g</td>\n",
       "      <td>e</td>\n",
       "    </tr>\n",
       "    <tr>\n",
       "      <th>1</th>\n",
       "      <td>k</td>\n",
       "      <td>y</td>\n",
       "      <td>e</td>\n",
       "      <td>f</td>\n",
       "      <td>y</td>\n",
       "      <td>f</td>\n",
       "      <td>c</td>\n",
       "      <td>n</td>\n",
       "      <td>b</td>\n",
       "      <td>t</td>\n",
       "      <td>...</td>\n",
       "      <td>p</td>\n",
       "      <td>w</td>\n",
       "      <td>p</td>\n",
       "      <td>w</td>\n",
       "      <td>o</td>\n",
       "      <td>e</td>\n",
       "      <td>w</td>\n",
       "      <td>v</td>\n",
       "      <td>l</td>\n",
       "      <td>e</td>\n",
       "    </tr>\n",
       "    <tr>\n",
       "      <th>2</th>\n",
       "      <td>f</td>\n",
       "      <td>y</td>\n",
       "      <td>n</td>\n",
       "      <td>f</td>\n",
       "      <td>s</td>\n",
       "      <td>f</td>\n",
       "      <td>c</td>\n",
       "      <td>n</td>\n",
       "      <td>b</td>\n",
       "      <td>t</td>\n",
       "      <td>...</td>\n",
       "      <td>w</td>\n",
       "      <td>p</td>\n",
       "      <td>p</td>\n",
       "      <td>w</td>\n",
       "      <td>o</td>\n",
       "      <td>e</td>\n",
       "      <td>w</td>\n",
       "      <td>v</td>\n",
       "      <td>p</td>\n",
       "      <td>p</td>\n",
       "    </tr>\n",
       "    <tr>\n",
       "      <th>3</th>\n",
       "      <td>f</td>\n",
       "      <td>y</td>\n",
       "      <td>n</td>\n",
       "      <td>t</td>\n",
       "      <td>a</td>\n",
       "      <td>f</td>\n",
       "      <td>c</td>\n",
       "      <td>b</td>\n",
       "      <td>n</td>\n",
       "      <td>e</td>\n",
       "      <td>...</td>\n",
       "      <td>w</td>\n",
       "      <td>w</td>\n",
       "      <td>p</td>\n",
       "      <td>w</td>\n",
       "      <td>o</td>\n",
       "      <td>p</td>\n",
       "      <td>k</td>\n",
       "      <td>s</td>\n",
       "      <td>p</td>\n",
       "      <td>e</td>\n",
       "    </tr>\n",
       "    <tr>\n",
       "      <th>4</th>\n",
       "      <td>x</td>\n",
       "      <td>s</td>\n",
       "      <td>n</td>\n",
       "      <td>f</td>\n",
       "      <td>n</td>\n",
       "      <td>f</td>\n",
       "      <td>w</td>\n",
       "      <td>b</td>\n",
       "      <td>p</td>\n",
       "      <td>t</td>\n",
       "      <td>...</td>\n",
       "      <td>w</td>\n",
       "      <td>w</td>\n",
       "      <td>p</td>\n",
       "      <td>w</td>\n",
       "      <td>o</td>\n",
       "      <td>e</td>\n",
       "      <td>n</td>\n",
       "      <td>a</td>\n",
       "      <td>g</td>\n",
       "      <td>e</td>\n",
       "    </tr>\n",
       "  </tbody>\n",
       "</table>\n",
       "<p>5 rows × 22 columns</p>\n",
       "</div>"
      ],
      "text/plain": [
       "  0  1  2  3  4  5  6  7  8  9   ... 12 13 14 15 16 17 18 19 20 21\n",
       "0  x  s  y  t  l  f  c  b  w  e  ...  w  w  p  w  o  p  n  n  g  e\n",
       "1  k  y  e  f  y  f  c  n  b  t  ...  p  w  p  w  o  e  w  v  l  e\n",
       "2  f  y  n  f  s  f  c  n  b  t  ...  w  p  p  w  o  e  w  v  p  p\n",
       "3  f  y  n  t  a  f  c  b  n  e  ...  w  w  p  w  o  p  k  s  p  e\n",
       "4  x  s  n  f  n  f  w  b  p  t  ...  w  w  p  w  o  e  n  a  g  e\n",
       "\n",
       "[5 rows x 22 columns]"
      ]
     },
     "execution_count": 9,
     "metadata": {},
     "output_type": "execute_result"
    }
   ],
   "source": [
    "X_train.head()"
   ]
  },
  {
   "cell_type": "markdown",
   "metadata": {
    "nbgrader": {
     "grade": false,
     "grade_id": "cell-fd7b0191f3f1e897",
     "locked": true,
     "schema_version": 1,
     "solution": false
    }
   },
   "source": [
    "## Impurity Measures\n",
    "\n",
    "Impurity is a measure of how often a randomly chosen element from the set would be incorrectly labeled if it was randomly labeled according to the distribution of labels in the subset. Implement the functions `calc_gini` and `calc_entropy`. You are encouraged to test your implementation (10 points)."
   ]
  },
  {
   "cell_type": "code",
   "execution_count": 10,
   "metadata": {},
   "outputs": [],
   "source": [
    "def calc_gini(data):\n",
    "    \"\"\"\n",
    "    Calculate gini impurity measure of a dataset.\n",
    " \n",
    "    Input:\n",
    "    - data: any dataset where the last column holds the labels.\n",
    " \n",
    "    Returns the gini impurity.    \n",
    "    \"\"\"\n",
    "    gini = 1\n",
    "    labels = list(data[data.columns[-1]].unique())\n",
    "    counts = data[data.columns[-1]].value_counts().tolist()\n",
    "\n",
    "    length = len(data)\n",
    "    dictionary = dict(zip(labels, counts))\n",
    "    for v in dictionary:\n",
    "        gini -= (abs(dictionary[v]) / abs(length)) ** 2\n",
    "\n",
    "    return gini"
   ]
  },
  {
   "cell_type": "code",
   "execution_count": 11,
   "metadata": {},
   "outputs": [],
   "source": [
    "def calc_entropy(data):\n",
    "    \"\"\"\n",
    "    Calculate the entropy of a dataset.\n",
    "\n",
    "    Input:\n",
    "    - data: any dataset where the last column holds the labels.\n",
    "\n",
    "    Returns the entropy of the dataset.    \n",
    "    \"\"\"\n",
    "    entropy = 0.0\n",
    "    \n",
    "    labels = list(data[data.columns[-1]].unique())\n",
    "    counts = data[data.columns[-1]].value_counts().tolist()\n",
    "\n",
    "    length = len(data)\n",
    "    dictionary = dict(zip(labels, counts))\n",
    "    for v in dictionary:\n",
    "        prop = dictionary[v] / length\n",
    "        entropy -= (prop) * math.log(prop, 2)\n",
    "    \n",
    "    return entropy"
   ]
  },
  {
   "cell_type": "code",
   "execution_count": 12,
   "metadata": {
    "scrolled": true
   },
   "outputs": [
    {
     "data": {
      "text/plain": [
       "(0.4993774351913738, 0.99910164235515)"
      ]
     },
     "execution_count": 12,
     "metadata": {},
     "output_type": "execute_result"
    }
   ],
   "source": [
    "##### Your Tests Here #####\n",
    "calc_gini(X_train), calc_entropy(X_train)"
   ]
  },
  {
   "cell_type": "markdown",
   "metadata": {},
   "source": [
    "## Goodness of Split\n",
    "\n",
    "Given a feature the Goodnees of Split measures the reduction in the impurity if we split the data according to the feature.\n",
    "$$\n",
    "\\Delta\\varphi(S, A) = \\varphi(S) - \\sum_{v\\in Values(A)} \\frac{|S_v|}{|S|}\\varphi(S_v)\n",
    "$$\n",
    "\n",
    "NOTE: you can add more parameters to the function and you can also add more returning variables (The given parameters and the given returning variable should not be touch). (10 Points)"
   ]
  },
  {
   "cell_type": "code",
   "execution_count": 13,
   "metadata": {},
   "outputs": [],
   "source": [
    "def goodness_of_split(data, feature, impurity_func):\n",
    "    \"\"\"\n",
    "    Calculate the goodness of split of a dataset given a feature and impurity function.\n",
    "\n",
    "    Input:\n",
    "    - data: any dataset where the last column holds the labels.\n",
    "    - feature: the feature index.\n",
    "    - impurity func: a function that calculates the impurity.\n",
    "\n",
    "    Returns the goodness of split.  \n",
    "    \"\"\"\n",
    "    # calculating the feature entropies  \n",
    "    values_dict = dict()\n",
    "    \n",
    "    # calculating proportion for each value\n",
    "    dictionary_prop = dict(data.loc[:,feature].value_counts())\n",
    "    for v in dictionary_prop:\n",
    "        dictionary_prop[v] = dictionary_prop[v] / len(data)\n",
    "    \n",
    "    # calculating impurity (given the Impurity function) for each value\n",
    "    for v in dictionary_prop:\n",
    "        values_dict[v] = impurity_func(data.loc[data[feature] == v])\n",
    "        \n",
    "    # calculating information gain by base entropy \n",
    "    goodness = impurity_func(data)\n",
    "    for val in values_dict:\n",
    "        goodness -= values_dict[val] * dictionary_prop[val]\n",
    "    \n",
    "    return goodness"
   ]
  },
  {
   "cell_type": "markdown",
   "metadata": {},
   "source": [
    "## Building a Decision Tree\n",
    "\n",
    "Use a Python class to construct the decision tree. Your class should support the following functionality:\n",
    "\n",
    "1. Initiating a node for a decision tree. You will need to use several class methods and class attributes and you are free to use them as you see fit. We recommend that every node will hold the feature and value used for the split and its children.\n",
    "2. Your code should support both Gini and Entropy as impurity measures. \n",
    "3. The provided data includes categorical data. In this exercise, when splitting a node create the number of children needed according to the attribute unique values.\n",
    "\n",
    "Complete the class `DecisionNode`. The structure of this class is entirely up to you. \n",
    "\n",
    "Complete the function `build_tree`. This function should get the training dataset and the impurity as inputs, initiate a root for the decision tree and construct the tree according to the procedure you learned in class. (30 points)"
   ]
  },
  {
   "cell_type": "code",
   "execution_count": 14,
   "metadata": {},
   "outputs": [],
   "source": [
    "class DecisionNode:\n",
    "    \"\"\"\n",
    "    This class will hold everything you require to construct a decision tree.\n",
    "    The structure of this class is up to you. However, you need to support basic \n",
    "    functionality as described above. It is highly recommended that you \n",
    "    first read and understand the entire exercise before diving into this class.\n",
    "    \"\"\"   \n",
    "    def __init__(self, data, feature):\n",
    "        self.data = data\n",
    "        \n",
    "        self.feature = feature # column index of criteria being tested\n",
    "        self.children = dict()\n",
    "        self.floor = 1\n",
    "        self.leaf = False\n",
    "        self.value = 'ROOT'\n",
    "        self.pred = 'p'\n",
    "        self.father_feature = 0\n",
    "        self.counts = dict(self.data[self.data.columns[-1]].value_counts())\n",
    "        \n",
    "    def add_child(self, node, value):\n",
    "        self.children[value] = node\n",
    "    \n",
    "    def cal_floor(self, max_depth):\n",
    "        self.floor = len(X_train.columns) - len(self.data.columns)\n",
    "        if self.floor == max_depth:\n",
    "            self.leaf = True\n",
    "            \n",
    "    def is_leaf(self, min_samples):\n",
    "        \n",
    "        counts = self.data[self.data.columns[-1]].value_counts().tolist()\n",
    "        if len(counts) == 1:\n",
    "            self.leaf = True\n",
    "            \n",
    "        if len(self.data) < min_samples:\n",
    "            self.leaf = True          \n",
    "    \n",
    "    def predict(self):\n",
    "        self.pred = self.data[self.data.columns[-1]].value_counts().head(1).keys()[0]"
   ]
  },
  {
   "cell_type": "code",
   "execution_count": 15,
   "metadata": {},
   "outputs": [],
   "source": [
    "def find_best_goodness(data, impurity_func):\n",
    "    max_value = 0\n",
    "    max_feature = data.columns[0]\n",
    "\n",
    "    for i in data.columns:\n",
    "        if i == len(X_train.columns)-1:\n",
    "            break\n",
    "            \n",
    "        temp = goodness_of_split(data, i, impurity_func)\n",
    "        if temp > max_value:\n",
    "            max_value = temp\n",
    "            max_feature = i\n",
    "            \n",
    "    return max_feature\n",
    "                     \n",
    "def find_children(node):\n",
    "    children = dict()\n",
    "    temp_data = node.data\n",
    "\n",
    "    values_of_node = temp_data.loc[:,node.feature].unique().tolist()\n",
    "    \n",
    "    for val in values_of_node:\n",
    "        children[val] = node.data.loc[node.data[node.feature] == val]\n",
    "        children[val].drop(node.feature, inplace=True, axis=1)\n",
    "        \n",
    "    return children\n",
    "        \n",
    "def build_tree(data, impurity, min_samples_split=1, max_depth=1000):\n",
    "    \"\"\"\n",
    "    Build a tree using the given impurity measure and training dataset. \n",
    "    You are required to fully grow the tree until all leaves are pure. \n",
    "\n",
    "    Input:\n",
    "    - data: the training dataset.\n",
    "    - impurity: the chosen impurity measure. Notice that you can send a function\n",
    "                as an argument in python.\n",
    "    - min_samples_split: the minimum number of samples required to split an internal node\n",
    "    - max_depth: the allowable depth of the tree\n",
    "\n",
    "    Output: the root node of the tree.\n",
    "    \"\"\"\n",
    "    root = DecisionNode(data, find_best_goodness(data, impurity))\n",
    "    root.predict()\n",
    "    root.is_leaf(min_samples_split)\n",
    "    que = []\n",
    "    que.append(root)\n",
    "\n",
    "    while len(que) > 0:\n",
    "        que[0].cal_floor(max_depth)\n",
    "        if que[0].leaf == True:\n",
    "            que.pop(0)\n",
    "            continue\n",
    "        \n",
    "        children = find_children(que[0])    \n",
    "        for v in children:\n",
    "            temp_node = DecisionNode(children[v], find_best_goodness(children[v], impurity))\n",
    "            temp_node.value = v\n",
    "            temp_node.is_leaf(min_samples_split)\n",
    "            temp_node.predict()\n",
    "            temp_node.father_feature = que[0].feature\n",
    "            que[0].add_child(temp_node, v)\n",
    "            que.append(temp_node)\n",
    "        que.pop(0)\n",
    "        \n",
    "    return root"
   ]
  },
  {
   "cell_type": "code",
   "execution_count": 16,
   "metadata": {},
   "outputs": [],
   "source": [
    "# python supports passing a function as an argument to another function.\n",
    "tree_gini = build_tree(data=X_train, impurity=calc_gini) # gini and goodness of split\n",
    "tree_entropy = build_tree(data=X_train, impurity=calc_entropy) # entropy and goodness of split"
   ]
  },
  {
   "cell_type": "markdown",
   "metadata": {},
   "source": [
    "## Tree evaluation\n",
    "\n",
    "Complete the functions `predict` and `calc_accuracy`. (10 points)"
   ]
  },
  {
   "cell_type": "code",
   "execution_count": 16,
   "metadata": {},
   "outputs": [],
   "source": [
    "def predict(node, instance):\n",
    "    \"\"\"\n",
    "    Predict a given instance using the decision tree\n",
    " \n",
    "    Input:\n",
    "    - root: the root of the decision tree.\n",
    "    - instance: an row vector from the dataset. Note that the last element \n",
    "                of this vector is the label of the instance.\n",
    " \n",
    "    Output: the prediction of the instance.\n",
    "    \"\"\"\n",
    "    temp_node = node\n",
    "    pred = temp_node.pred\n",
    "    \n",
    "    while not temp_node.leaf:\n",
    "        feature = temp_node.feature\n",
    "        value = instance.iloc[feature]\n",
    "        try:\n",
    "            temp_node = temp_node.children[value]\n",
    "        except:\n",
    "            break\n",
    "        pred = temp_node.pred      \n",
    "\n",
    "    return pred"
   ]
  },
  {
   "cell_type": "code",
   "execution_count": 17,
   "metadata": {},
   "outputs": [],
   "source": [
    "def calc_accuracy(node, dataset):\n",
    "    \"\"\"\n",
    "    Predict a given dataset using the decision tree\n",
    " \n",
    "    Input:\n",
    "    - node: a node in the decision tree.\n",
    "    - dataset: the dataset on which the accuracy is evaluated\n",
    " \n",
    "    Output: the accuracy of the decision tree on the given dataset (%).\n",
    "    \"\"\"\n",
    "    accuracy = 0\n",
    "    predictions = []\n",
    "    for i in range(0, len(dataset)):\n",
    "        vec = dataset.iloc[i]\n",
    "        pred = predict(node, vec)\n",
    "        predictions.append(pred)\n",
    "        \n",
    "    pred_table = dataset.iloc[:,-1:]\n",
    "    pred_table['temp'] = predictions\n",
    "    pred_table.columns = ['given_predictions', 'tree_predictions']\n",
    "    pred_table['compare'] = np.where(pred_table['given_predictions'] == pred_table['tree_predictions'], 1, 0)\n",
    "\n",
    "    accuracy = np.sum(pred_table['compare']) / len(dataset)\n",
    "    return accuracy"
   ]
  },
  {
   "cell_type": "markdown",
   "metadata": {},
   "source": [
    "After building the three trees using the training set, you should calculate the accuracy on the test set. For each tree print the training and test accuracy. Select the tree that gave you the best test accuracy. For the rest of the exercise, use that tree (when you asked to build another tree use the same impurity function and same gain_ratio flag). "
   ]
  },
  {
   "cell_type": "code",
   "execution_count": 19,
   "metadata": {},
   "outputs": [
    {
     "name": "stdout",
     "output_type": "stream",
     "text": [
      "The accuracy of the tree_gini on the training dataset: 1.0\n",
      "The accuracy of the tree_gini on the testing dataset: 0.7725258493353028\n",
      "The accuracy of the tree_entropy on the training dataset: 1.0\n",
      "The accuracy of the tree_entropy on the testing dataset: 0.7715411127523387\n",
      "The tree with the best test accuracy is tree_gini: 0.7725258493353028\n"
     ]
    }
   ],
   "source": [
    "accuracy_gini_train = calc_accuracy(tree_gini,X_train)\n",
    "accuracy_gini_test = calc_accuracy(tree_gini,X_test)\n",
    "accuracy_entropy_train = calc_accuracy(tree_entropy,X_train)\n",
    "accuracy_entropy_test = calc_accuracy(tree_entropy,X_test)\n",
    "\n",
    "print(\"The accuracy of the tree_gini on the training dataset:\", accuracy_gini_train)\n",
    "print(\"The accuracy of the tree_gini on the testing dataset:\", accuracy_gini_test)\n",
    "print(\"The accuracy of the tree_entropy on the training dataset:\", accuracy_entropy_train)\n",
    "print(\"The accuracy of the tree_entropy on the testing dataset:\", accuracy_entropy_test)\n",
    "\n",
    "if accuracy_gini_test <= accuracy_entropy_test:\n",
    "    print(\"The tree with the best test accuracy is tree_entropy:\", accuracy_entropy_test)\n",
    "else:\n",
    "    print(\"The tree with the best test accuracy is tree_gini:\", accuracy_gini_test)"
   ]
  },
  {
   "cell_type": "markdown",
   "metadata": {},
   "source": [
    "## Depth pruning\n",
    "\n",
    "(15 points)\n",
    "\n",
    "Consider the following max_depth values: [1, 2, 3, 4, 5, 6, 7, 8]. For each value, construct a tree and prune it according to the max_depth value = don't let the tree to grow beyond this depth. Next, calculate the training and testing accuracy.<br>\n",
    "On a single plot, draw the training and testing accuracy as a function of the max_depth. Mark the best result on the graph with red circle."
   ]
  },
  {
   "cell_type": "code",
   "execution_count": 20,
   "metadata": {},
   "outputs": [],
   "source": [
    "depths = [1,2,3,4,5,6,7,8]\n",
    "trees_depth = []\n",
    "\n",
    "for d in depths:\n",
    "    trees_depth.append(build_tree(X_train, calc_entropy, max_depth = d))"
   ]
  },
  {
   "cell_type": "code",
   "execution_count": 21,
   "metadata": {},
   "outputs": [],
   "source": [
    "train_accuracies_depth = []\n",
    "test_accuracies_depth = []\n",
    "\n",
    "for i, tree in enumerate (trees_depth):\n",
    "    accuracy = calc_accuracy(tree, X_train)\n",
    "    train_accuracies_depth.append(accuracy)\n",
    "    \n",
    "for i, tree in enumerate (trees_depth):\n",
    "    accuracy = calc_accuracy(tree, X_test)\n",
    "    test_accuracies_depth.append(accuracy)"
   ]
  },
  {
   "cell_type": "code",
   "execution_count": 22,
   "metadata": {},
   "outputs": [
    {
     "data": {
      "image/png": "[encoded data removed]",
      "text/plain": [
       "<Figure size 720x576 with 1 Axes>"
      ]
     },
     "metadata": {
      "needs_background": "light"
     },
     "output_type": "display_data"
    }
   ],
   "source": [
    "x = depths\n",
    "plt.plot(x, train_accuracies_depth, label = \"Train Accuracy\")\n",
    "plt.plot(x, test_accuracies_depth, label = \"Test Accuracy\")\n",
    "plt.legend()\n",
    "plt.xticks(np.array(x))\n",
    "plt.title('Accuracy on train/test datasets as a function of the different max depth values')\n",
    "plt.xlabel('Depth of tree')\n",
    "plt.ylabel('Level of accuracy')\n",
    "plt.legend(['Training', 'Testing'])\n",
    "plt.scatter(depths[2], test_accuracies_depth[2], s=250, facecolors='none',edgecolors = 'r')\n",
    "\n",
    "plt.show()"
   ]
  },
  {
   "cell_type": "markdown",
   "metadata": {},
   "source": [
    "## Min Samples Split\n",
    "\n",
    "(15 points)\n",
    "\n",
    "Consider the following min_samples_split values: [1, 5, 10, 20, 50]. For each value, construct a tree and prune it according to the min_samples_split value = don't split a node if the number of sample in it is less or equal to the min_samples_split value. Next, calculate the training and testing accuracy.<br>\n",
    "On a single plot, draw the training and testing accuracy as a function of the min_samples_split. Mark the best result on the graph with red circle. (make sure that the x-axis ticks represent the values of min_samples_split)"
   ]
  },
  {
   "cell_type": "code",
   "execution_count": 23,
   "metadata": {},
   "outputs": [],
   "source": [
    "min_samples_split_values = [1,5, 10, 20, 50]\n",
    "trees_samples = []\n",
    "for m in min_samples_split_values:\n",
    "    trees_samples.append(build_tree(X_train, calc_entropy, min_samples_split = m))"
   ]
  },
  {
   "cell_type": "code",
   "execution_count": 24,
   "metadata": {},
   "outputs": [],
   "source": [
    "train_accuracies_samples = []\n",
    "test_accuracies_samples = []\n",
    "for i, tree in enumerate (trees_samples):\n",
    "    accuracy = calc_accuracy(tree, X_train)\n",
    "    train_accuracies_samples.append(accuracy)\n",
    "    \n",
    "for i, tree in enumerate (trees_samples):\n",
    "    accuracy = calc_accuracy(tree, X_test)\n",
    "    test_accuracies_samples.append(accuracy)"
   ]
  },
  {
   "cell_type": "code",
   "execution_count": 25,
   "metadata": {},
   "outputs": [
    {
     "data": {
      "image/png": "[encoded data removed]",
      "text/plain": [
       "<Figure size 720x576 with 1 Axes>"
      ]
     },
     "metadata": {
      "needs_background": "light"
     },
     "output_type": "display_data"
    }
   ],
   "source": [
    "x = min_samples_split_values\n",
    "plt.plot(x, train_accuracies_samples, label = \"Train Accuracy\")\n",
    "plt.plot(x, test_accuracies_samples, label = \"Test Accuracy\")\n",
    "plt.title('Accuracy on train/test datasets as a function of the min samples per node')\n",
    "plt.xlabel('Minimum samples per node')\n",
    "plt.ylabel('Level of accuracy')\n",
    "plt.legend(['Training', 'Testing'])\n",
    "plt.xticks(np.array(x))\n",
    "plt.scatter(x[4], test_accuracies_samples[4], s=300, facecolors='none',edgecolors = 'r')\n",
    "plt.show()"
   ]
  },
  {
   "cell_type": "markdown",
   "metadata": {},
   "source": [
    "Build the best 2 trees:\n",
    "1. tree_max_depth - the best tree according to max_depth pruning\n",
    "1. tree_min_samples_split - the best tree according to min_samples_split pruning"
   ]
  },
  {
   "cell_type": "code",
   "execution_count": 26,
   "metadata": {},
   "outputs": [],
   "source": [
    "tree_max_depth = build_tree(data = X_train, impurity = calc_entropy, max_depth = 3)\n",
    "tree_min_samples_split = build_tree(data = X_train, impurity = calc_entropy, min_samples_split = 50)"
   ]
  },
  {
   "cell_type": "markdown",
   "metadata": {},
   "source": [
    "## Number of Nodes\n",
    "\n",
    "(5 points)\n",
    "\n",
    "Complete the function counts_nodes and print the number of nodes in each tree and print the number of nodes of the two trees above"
   ]
  },
  {
   "cell_type": "code",
   "execution_count": 18,
   "metadata": {},
   "outputs": [],
   "source": [
    "def count_nodes(node):\n",
    "    \"\"\"\n",
    "    Count the number of node in a given tree\n",
    " \n",
    "    Input:\n",
    "    - node: a node in the decision tree.\n",
    " \n",
    "    Output: the number of node in the tree.\n",
    "    \"\"\"  \n",
    "    que = []\n",
    "    que.append(node)\n",
    "    counter = 0 # We assume that the root is not a node\n",
    "    while len(que) > 0:\n",
    "        if que[0].leaf:\n",
    "            que.pop(0)\n",
    "            continue\n",
    "        for c in que[0].children:\n",
    "            counter += 1\n",
    "            que.append(que[0].children[c])\n",
    "        que.pop(0)\n",
    "        \n",
    "    return counter "
   ]
  },
  {
   "cell_type": "code",
   "execution_count": 28,
   "metadata": {},
   "outputs": [
    {
     "name": "stdout",
     "output_type": "stream",
     "text": [
      "The number of nodes of the max depth tree: 145\n",
      "The number of nodes of the min samples tree tree: 327\n"
     ]
    }
   ],
   "source": [
    "print(\"The number of nodes of the max depth tree:\", count_nodes(tree_max_depth))\n",
    "print(\"The number of nodes of the min samples tree tree:\", count_nodes(tree_min_samples_split))"
   ]
  },
  {
   "cell_type": "markdown",
   "metadata": {},
   "source": [
    "## Print the tree\n",
    "\n",
    "Complete the function `print_tree`. Your tree should be visualized clearly. You can use the following example as a reference:\n",
    "```\n",
    "[ROOT, feature=X0],\n",
    "  [X0=a, feature=X2]\n",
    "    [X2=c, leaf]: [{1.0: 10}]\n",
    "    [X2=d, leaf]: [{0.0: 10}]\n",
    "  [X0=y, feature=X5], \n",
    "    [X5=a, leaf]: [{1.0: 5}]\n",
    "    [X5=s, leaf]: [{0.0: 10}]\n",
    "  [X0=e, leaf]: [{0.0: 25, 1.0: 50}]\n",
    "```\n",
    "In each brackets:\n",
    "* The first argument is the parent feature with the value that led to current node\n",
    "* The second argument is the selected feature of the current node\n",
    "* If the current node is a leaf, you need to print also the labels and their counts\n",
    "\n",
    "(5 points)"
   ]
  },
  {
   "cell_type": "code",
   "execution_count": 19,
   "metadata": {},
   "outputs": [],
   "source": [
    "# you can change the function signeture\n",
    "def print_tree(node, depth=0, parent_feature='ROOT', feature_val='ROOT'):\n",
    "    '''\n",
    "    prints the tree according to the example above\n",
    "\n",
    "    Input:\n",
    "    - node: a node in the decision tree\n",
    "\n",
    "    This function has no return value\n",
    "    '''\n",
    "    temp_node = node\n",
    "    que = []\n",
    "    que.append(node)\n",
    "    space = que[0].floor * 3 * \" \"\n",
    "    print(space,\"[\",que[0].value,\", feature=X\", que[0].feature,\"]\", sep = \"\")\n",
    "    \n",
    "    while len(que) > 0:\n",
    "        space = que[0].floor * 3 * \" \"\n",
    "        if not que[0].leaf:\n",
    "            if que[0].feature != 4:   \n",
    "                print(space,\"[X\",que[0].father_feature,\"=\", que[0].value,\", feature=X\", que[0].feature,\"]\", sep = \"\")\n",
    "                \n",
    "            for c in que[0].children:\n",
    "                que.insert(1, que[0].children[c])\n",
    "            \n",
    "        if que[0].leaf:\n",
    "            space = que[0].floor * 3 * \" \"\n",
    "            print(space,\"[X\",que[0].father_feature,\"=\", que[0].value,\", leaf]: \",\"[\", que[0].counts,\"]\", sep = \"\")\n",
    "    \n",
    "        que.pop(0)"
   ]
  },
  {
   "cell_type": "markdown",
   "metadata": {},
   "source": [
    "print the tree with the best test accuracy and with less than 50 nodes (from the two pruning methods)"
   ]
  },
  {
   "cell_type": "code",
   "execution_count": 31,
   "metadata": {},
   "outputs": [
    {
     "name": "stdout",
     "output_type": "stream",
     "text": [
      "The chosen tree has max depth of 2\n",
      "[ROOT, feature=X4]\n",
      "   [X4=c, feature=X6]\n",
      "      [X6=w, leaf]: [{'p': 74, 'e': 3}]\n",
      "      [X6=c, leaf]: [{'p': 63, 'e': 7}]\n",
      "   [X4=m, feature=X0]\n",
      "      [X0=f, leaf]: [{'p': 8, 'e': 1}]\n",
      "      [X0=k, leaf]: [{'p': 10, 'e': 1}]\n",
      "      [X0=x, leaf]: [{'p': 7}]\n",
      "   [X4=p, feature=X0]\n",
      "      [X0=x, leaf]: [{'p': 89, 'e': 1}]\n",
      "      [X0=f, leaf]: [{'p': 86, 'e': 7}]\n",
      "   [X4=f, feature=X2]\n",
      "      [X2=g, leaf]: [{'p': 495, 'e': 60}]\n",
      "      [X2=b, leaf]: [{'p': 66, 'e': 10}]\n",
      "      [X2=w, leaf]: [{'p': 70, 'e': 3}]\n",
      "      [X2=n, leaf]: [{'p': 184, 'e': 17}]\n",
      "      [X2=e, leaf]: [{'p': 203, 'e': 20}]\n",
      "      [X2=y, leaf]: [{'p': 420, 'e': 60}]\n",
      "   [X4=n, feature=X18]\n",
      "      [X18=b, leaf]: [{'e': 34, 'p': 2}]\n",
      "      [X18=r, leaf]: [{'p': 46, 'e': 6}]\n",
      "      [X18=o, leaf]: [{'e': 28, 'p': 4}]\n",
      "      [X18=h, leaf]: [{'e': 35, 'p': 5}]\n",
      "      [X18=y, leaf]: [{'e': 35, 'p': 3}]\n",
      "      [X18=k, leaf]: [{'e': 875, 'p': 96}]\n",
      "      [X18=w, leaf]: [{'e': 403, 'p': 78}]\n",
      "      [X18=n, leaf]: [{'e': 916, 'p': 110}]\n",
      "   [X4=a, feature=X2]\n",
      "      [X2=w, leaf]: [{'e': 107, 'p': 7}]\n",
      "      [X2=y, leaf]: [{'e': 133, 'p': 19}]\n",
      "      [X2=n, leaf]: [{'e': 33, 'p': 5}]\n",
      "   [X4=s, feature=X13]\n",
      "      [X13=w, leaf]: [{'p': 190, 'e': 26}]\n",
      "      [X13=p, leaf]: [{'p': 190, 'e': 12}]\n",
      "   [X4=y, feature=X1]\n",
      "      [X1=s, leaf]: [{'p': 194, 'e': 18}]\n",
      "      [X1=y, leaf]: [{'p': 188, 'e': 31}]\n",
      "   [X4=l, feature=X1]\n",
      "      [X1=f, leaf]: [{'e': 19, 'p': 1}]\n",
      "      [X1=y, leaf]: [{'e': 159, 'p': 10}]\n",
      "      [X1=s, leaf]: [{'e': 94, 'p': 16}]\n"
     ]
    }
   ],
   "source": [
    "best_depth_acc = 0\n",
    "best_tree_depth = None\n",
    "index1 = 0\n",
    "for i, acc in enumerate(test_accuracies_depth):\n",
    "    if acc > best_depth_acc:\n",
    "        if count_nodes(trees_depth[i]) < 50:\n",
    "            index1 = i\n",
    "            best_depth_acc = acc\n",
    "            best_tree_depth = trees_depth[i]\n",
    "            \n",
    "\n",
    "best_samples_acc = 0\n",
    "best_tree_samples = None\n",
    "index2 = 0\n",
    "for i, acc in enumerate(test_accuracies_samples):\n",
    "    if acc > best_samples_acc:\n",
    "        if count_nodes(trees_samples[i]) < 50:\n",
    "            index2 = i\n",
    "            best_samples_acc = acc\n",
    "            best_tree_samples = trees_samples[i]\n",
    "            \n",
    "if best_depth_acc >  best_samples_acc:\n",
    "    print(\"The chosen tree has max depth of\", depths[index1])\n",
    "    print_tree(best_tree_depth)\n",
    "else:\n",
    "    print(\"The chosen tree has minimum node size of\", min_samples_split_values[index2])\n",
    "    print_tree(best_tree_samples)"
   ]
  },
  {
   "cell_type": "code",
   "execution_count": 21,
   "metadata": {},
   "outputs": [
    {
     "name": "stdout",
     "output_type": "stream",
     "text": [
      "[ROOT, feature=X4]\n",
      "   [X4=c, leaf]: [{'p': 137, 'e': 10}]\n",
      "   [X4=m, leaf]: [{'p': 25, 'e': 2}]\n",
      "   [X4=p, leaf]: [{'p': 175, 'e': 8}]\n",
      "   [X4=f, feature=X2]\n",
      "      [X2=g, feature=X8]\n",
      "         [X8=g, leaf]: [{'p': 144, 'e': 23}]\n",
      "         [X8=h, leaf]: [{'p': 161, 'e': 18}]\n",
      "         [X8=p, leaf]: [{'p': 170, 'e': 15}]\n",
      "         [X8=w, leaf]: [{'p': 20, 'e': 4}]\n",
      "      [X2=b, leaf]: [{'p': 66, 'e': 10}]\n",
      "      [X2=w, leaf]: [{'p': 70, 'e': 3}]\n",
      "      [X2=n, feature=X20]\n",
      "         [X20=d, leaf]: [{'p': 58, 'e': 6}]\n",
      "         [X20=p, leaf]: [{'p': 61, 'e': 1}]\n",
      "         [X20=l, leaf]: [{'p': 65, 'e': 10}]\n",
      "      [X2=e, feature=X1]\n",
      "         [X1=y, leaf]: [{'p': 106, 'e': 4}]\n",
      "         [X1=s, leaf]: [{'p': 97, 'e': 16}]\n",
      "      [X2=y, feature=X19]\n",
      "         [X19=y, feature=X12]\n",
      "            [X12=b, leaf]: [{'p': 66, 'e': 12}]\n",
      "            [X12=n, leaf]: [{'p': 64, 'e': 17}]\n",
      "            [X12=p, leaf]: [{'p': 78, 'e': 10}]\n",
      "         [X19=v, feature=X0]\n",
      "            [X0=x, leaf]: [{'p': 108, 'e': 7}]\n",
      "            [X0=f, leaf]: [{'p': 104, 'e': 14}]\n",
      "   [X4=n, feature=X18]\n",
      "      [X18=b, leaf]: [{'e': 34, 'p': 2}]\n",
      "      [X18=r, leaf]: [{'p': 46, 'e': 6}]\n",
      "      [X18=o, leaf]: [{'e': 28, 'p': 4}]\n",
      "      [X18=h, leaf]: [{'e': 35, 'p': 5}]\n",
      "      [X18=y, leaf]: [{'e': 35, 'p': 3}]\n",
      "      [X18=k, feature=X8]\n",
      "         [X8=g, leaf]: [{'e': 6, 'p': 1}]\n",
      "         [X8=k, leaf]: [{'e': 75, 'p': 5}]\n",
      "         [X8=h, leaf]: [{'e': 66, 'p': 5}]\n",
      "         [X8=n, feature=X11]\n",
      "            [X11=f, leaf]: [{'e': 28, 'p': 9}]\n",
      "            [X11=s, leaf]: [{'e': 193, 'p': 20}]\n",
      "         [X8=w, leaf]: [{'e': 149, 'p': 11}]\n",
      "         [X8=p, feature=X2]\n",
      "            [X2=e, leaf]: [{'e': 46, 'p': 9}]\n",
      "            [X2=g, leaf]: [{'e': 81, 'p': 7}]\n",
      "            [X2=n, leaf]: [{'e': 74, 'p': 10}]\n",
      "            [X2=w, leaf]: [{'e': 25, 'p': 1}]\n",
      "         [X8=u, leaf]: [{'e': 132, 'p': 18}]\n",
      "      [X18=w, feature=X20]\n",
      "         [X20=p, leaf]: [{'e': 29, 'p': 1}]\n",
      "         [X20=d, leaf]: [{'p': 27, 'e': 6}]\n",
      "         [X20=l, leaf]: [{'e': 34, 'p': 20}]\n",
      "         [X20=w, leaf]: [{'e': 130, 'p': 11}]\n",
      "         [X20=g, feature=X8]\n",
      "            [X8=g, leaf]: [{'e': 69, 'p': 5}]\n",
      "            [X8=w, leaf]: [{'e': 73, 'p': 4}]\n",
      "            [X8=p, leaf]: [{'e': 62, 'p': 10}]\n",
      "      [X18=n, feature=X8]\n",
      "         [X8=g, leaf]: [{'e': 9, 'p': 1}]\n",
      "         [X8=o, leaf]: [{'e': 12}]\n",
      "         [X8=y, leaf]: [{'e': 10, 'p': 4}]\n",
      "         [X8=k, leaf]: [{'e': 79, 'p': 7}]\n",
      "         [X8=h, leaf]: [{'e': 68, 'p': 8}]\n",
      "         [X8=w, leaf]: [{'e': 140, 'p': 26}]\n",
      "         [X8=n, feature=X19]\n",
      "            [X19=c, leaf]: [{'e': 4, 'p': 1}]\n",
      "            [X19=a, leaf]: [{'e': 36, 'p': 2}]\n",
      "            [X19=s, leaf]: [{'e': 34, 'p': 5}]\n",
      "            [X19=y, leaf]: [{'e': 78, 'p': 10}]\n",
      "            [X19=v, leaf]: [{'e': 84, 'p': 6}]\n",
      "         [X8=u, leaf]: [{'e': 138, 'p': 21}]\n",
      "         [X8=p, feature=X2]\n",
      "            [X2=w, leaf]: [{'e': 20, 'p': 5}]\n",
      "            [X2=e, leaf]: [{'e': 45, 'p': 4}]\n",
      "            [X2=g, leaf]: [{'e': 80, 'p': 4}]\n",
      "            [X2=n, leaf]: [{'e': 79, 'p': 6}]\n",
      "   [X4=a, feature=X2]\n",
      "      [X2=w, leaf]: [{'e': 107, 'p': 7}]\n",
      "      [X2=y, leaf]: [{'e': 133, 'p': 19}]\n",
      "      [X2=n, leaf]: [{'e': 33, 'p': 5}]\n",
      "   [X4=s, feature=X13]\n",
      "      [X13=w, feature=X12]\n",
      "         [X12=p, leaf]: [{'p': 88, 'e': 18}]\n",
      "         [X12=w, leaf]: [{'p': 102, 'e': 8}]\n",
      "      [X13=p, feature=X11]\n",
      "         [X11=s, leaf]: [{'p': 94, 'e': 4}]\n",
      "         [X11=k, leaf]: [{'p': 96, 'e': 8}]\n",
      "   [X4=y, feature=X1]\n",
      "      [X1=s, feature=X20]\n",
      "         [X20=d, leaf]: [{'p': 66, 'e': 3}]\n",
      "         [X20=p, leaf]: [{'p': 64, 'e': 8}]\n",
      "         [X20=l, leaf]: [{'p': 64, 'e': 7}]\n",
      "      [X1=y, feature=X12]\n",
      "         [X12=w, leaf]: [{'p': 97, 'e': 19}]\n",
      "         [X12=p, leaf]: [{'p': 91, 'e': 12}]\n",
      "   [X4=l, feature=X1]\n",
      "      [X1=f, leaf]: [{'e': 19, 'p': 1}]\n",
      "      [X1=y, leaf]: [{'e': 159, 'p': 10}]\n",
      "      [X1=s, leaf]: [{'e': 94, 'p': 16}]\n"
     ]
    }
   ],
   "source": [
    "print_tree(build_tree(X_train, calc_entropy, 200, 4))"
   ]
  },
  {
   "cell_type": "code",
   "execution_count": 26,
   "metadata": {},
   "outputs": [
    {
     "data": {
      "text/plain": [
       "'e'"
      ]
     },
     "execution_count": 26,
     "metadata": {},
     "output_type": "execute_result"
    }
   ],
   "source": [
    "root.children['n'].children['n'].children['o'].pred"
   ]
  }
 ],
 "metadata": {
  "celltoolbar": "Create Assignment",
  "kernelspec": {
   "display_name": "Python 3",
   "language": "python",
   "name": "python3"
  },
  "language_info": {
   "codemirror_mode": {
    "name": "ipython",
    "version": 3
   },
   "file_extension": ".py",
   "mimetype": "text/x-python",
   "name": "python",
   "nbconvert_exporter": "python",
   "pygments_lexer": "ipython3",
   "version": "3.8.8"
  }
 },
 "nbformat": 4,
 "nbformat_minor": 4
}
