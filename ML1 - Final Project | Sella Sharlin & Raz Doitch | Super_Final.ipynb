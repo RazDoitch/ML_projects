{
 "cells": [
  {
   "cell_type": "markdown",
   "metadata": {},
   "source": [
    "# Submitted by:\n",
    " \n",
    "* Sella Sharlin\n",
    "* Raz Doitch\n",
    "\n",
    "## To be submitted by: 20.2.2022"
   ]
  },
  {
   "cell_type": "markdown",
   "metadata": {},
   "source": [
    "## Titanic survival prediction\n",
    "\n",
    "\n",
    "\n",
    "In this part we will attempt to predict who survived on the Titanic. The data set we use has the following vairbales (features/attributes):\n",
    "\n",
    "\n",
    "|  Variable   |          Definition          |              Key/Values                 |\n",
    "|:-----------:|:----------------------------:|:---------------------------------------:|\n",
    "| PassengerId | Index                        |integer                                  |\n",
    "| Pclass      | Ticket class                 |1=1st, 2=2nd, 3=3rd                      |\n",
    "| Name        | Name of passenger            |string                                   |\n",
    "| Sex         | Sex                          |male, female                             |\n",
    "| Age         | Age in years                 |integer                                  |\n",
    "| SibSp       | # of siblings/spouses aboard |integer                                  |\n",
    "| Parch       | # of parents/children aboard |integer                                  |\n",
    "| Ticket      | Ticket number                |string                                   |\n",
    "| Fare        | Ticket fare                  |float                                    |\n",
    "| Cabin       | Cabin number                 |a code                                   |\n",
    "| Embarked    | Port of Embarkation          |C=Cherbourg, Q=Queenstown, S=Southampton |\n",
    "| **Survived**| Predicted varibale           |0=No, 1=Yes                              |\n"
   ]
  },
  {
   "cell_type": "markdown",
   "metadata": {},
   "source": [
    "**Goal:**\n",
    "\n",
    "This part of the project is a competetive one. The goal is to produce the best prediciton you can\n",
    "<br><br>\n",
    "\n",
    "\n",
    "**Methodogology**\n",
    "\n",
    "So far you only know few methods for classification: KNN, logistic regression and SVM. You can use each one of them. You can also use linear regression, but then you need to convert the output to 0s and 1s (this is not a straight forward use of linear regression but a possible one). You may want to choose which features to use (it could be that some features are not useful). Further, some features have missing values. You will need to decide how to handle this (for instance: drop rows with missing values, place an avergae value in those rows, or some other method of your choosing). Another matter to consider is handling non-numeric values. For example, sex is non-numeric. You may choose to drop non-numeric features, or you could convert them to numeric values (if such conversion makes sense).\n",
    "Also you will need to consider splitting the data into a training set and a test set so as to avoid tailoring the solution (overfitting) to the data you have.\n",
    "<br><br>\n",
    "Bottom line: use everything we talked about in class in order to learn the best model.\n",
    "\n",
    "\n",
    "**Model Output**\n",
    "\n",
    "Your model needs to produce a prediciton for each data sample (row), which is 0 (did not survive) or 1 (survived). \n",
    "<br><br>\n",
    "\n",
    "**Scoring your model**\n",
    "\n",
    "Your model performance will be assessed on test data that is not available to you. As mentioned above, this part of the project is a competition, where the goal is to achieve highest model accuracy\n",
    "\n",
    "<br><br>\n",
    "**Final Note**\n",
    "\n",
    "This part of the project is open ended, in that you are not given small and specific tasks. However, you are already familiar with all the components needed to succeed. Specifically, reading data into pandas dataframe, dropping columns, dropping rows, changing value of features, splitting data into train and test subsets, performing model using sklearn library, and using cross validation. So don't panic...\n",
    "\n",
    "\n",
    "GOOD LUCK"
   ]
  },
  {
   "cell_type": "markdown",
   "metadata": {},
   "source": [
    "## Solution\n",
    "We will implement a model that will predict survival on the Titanic by the next steps:\n",
    "1. Adding Data \n",
    "2. Exploratory Data Analysis \n",
    "3. Data Preparation  \n",
    "5. Implementing Models\n",
    "6. Testing\n",
    "<br><br>"
   ]
  },
  {
   "cell_type": "markdown",
   "metadata": {},
   "source": [
    "### 1. Adding Data "
   ]
  },
  {
   "cell_type": "code",
   "execution_count": 1,
   "metadata": {},
   "outputs": [],
   "source": [
    "import pandas as pd\n",
    "import numpy as np\n",
    "import seaborn as sns\n",
    "import matplotlib.pyplot as plt\n",
    "from sklearn.model_selection import train_test_split, GridSearchCV, cross_val_score\n",
    "from sklearn import preprocessing\n",
    "from sklearn.metrics import mean_squared_error, accuracy_score\n",
    "import statistics \n",
    "from IPython.display import Image\n",
    "import warnings"
   ]
  },
  {
   "cell_type": "code",
   "execution_count": 2,
   "metadata": {},
   "outputs": [],
   "source": [
    "# ignore warnings\n",
    "warnings.simplefilter(action='ignore', category=FutureWarning)\n",
    "warnings.filterwarnings('ignore')"
   ]
  },
  {
   "cell_type": "code",
   "execution_count": 3,
   "metadata": {},
   "outputs": [],
   "source": [
    "# generating data\n",
    "titanic_data = pd.read_csv('titanic_train.csv')\n",
    "\n",
    "# droping irrelevant columns\n",
    "irrelevant_cols = ['PassengerId', 'Ticket']  \n",
    "titanic_data = titanic_data.drop(irrelevant_cols, axis=1)"
   ]
  },
  {
   "cell_type": "markdown",
   "metadata": {},
   "source": [
    "### 2. Exploratory Data Analysis "
   ]
  },
  {
   "cell_type": "code",
   "execution_count": 4,
   "metadata": {},
   "outputs": [
    {
     "name": "stdout",
     "output_type": "stream",
     "text": [
      "<class 'pandas.core.frame.DataFrame'>\n",
      "RangeIndex: 712 entries, 0 to 711\n",
      "Data columns (total 10 columns):\n",
      " #   Column    Non-Null Count  Dtype  \n",
      "---  ------    --------------  -----  \n",
      " 0   Pclass    712 non-null    int64  \n",
      " 1   Name      712 non-null    object \n",
      " 2   Sex       712 non-null    object \n",
      " 3   Age       569 non-null    float64\n",
      " 4   SibSp     712 non-null    int64  \n",
      " 5   Parch     712 non-null    int64  \n",
      " 6   Fare      712 non-null    float64\n",
      " 7   Cabin     163 non-null    object \n",
      " 8   Embarked  710 non-null    object \n",
      " 9   Survived  712 non-null    int64  \n",
      "dtypes: float64(2), int64(4), object(4)\n",
      "memory usage: 55.8+ KB\n"
     ]
    }
   ],
   "source": [
    "titanic_data.info()"
   ]
  },
  {
   "cell_type": "code",
   "execution_count": 5,
   "metadata": {},
   "outputs": [
    {
     "data": {
      "text/html": [
       "<div>\n",
       "<style scoped>\n",
       "    .dataframe tbody tr th:only-of-type {\n",
       "        vertical-align: middle;\n",
       "    }\n",
       "\n",
       "    .dataframe tbody tr th {\n",
       "        vertical-align: top;\n",
       "    }\n",
       "\n",
       "    .dataframe thead th {\n",
       "        text-align: right;\n",
       "    }\n",
       "</style>\n",
       "<table border=\"1\" class=\"dataframe\">\n",
       "  <thead>\n",
       "    <tr style=\"text-align: right;\">\n",
       "      <th></th>\n",
       "      <th>Pclass</th>\n",
       "      <th>Age</th>\n",
       "      <th>SibSp</th>\n",
       "      <th>Parch</th>\n",
       "      <th>Fare</th>\n",
       "      <th>Survived</th>\n",
       "    </tr>\n",
       "  </thead>\n",
       "  <tbody>\n",
       "    <tr>\n",
       "      <th>count</th>\n",
       "      <td>712.000000</td>\n",
       "      <td>569.000000</td>\n",
       "      <td>712.000000</td>\n",
       "      <td>712.000000</td>\n",
       "      <td>712.000000</td>\n",
       "      <td>712.000000</td>\n",
       "    </tr>\n",
       "    <tr>\n",
       "      <th>mean</th>\n",
       "      <td>2.306180</td>\n",
       "      <td>30.017873</td>\n",
       "      <td>0.492978</td>\n",
       "      <td>0.363764</td>\n",
       "      <td>32.183227</td>\n",
       "      <td>0.383427</td>\n",
       "    </tr>\n",
       "    <tr>\n",
       "      <th>std</th>\n",
       "      <td>0.837964</td>\n",
       "      <td>14.556518</td>\n",
       "      <td>1.121309</td>\n",
       "      <td>0.745153</td>\n",
       "      <td>48.431211</td>\n",
       "      <td>0.486563</td>\n",
       "    </tr>\n",
       "    <tr>\n",
       "      <th>min</th>\n",
       "      <td>1.000000</td>\n",
       "      <td>0.750000</td>\n",
       "      <td>0.000000</td>\n",
       "      <td>0.000000</td>\n",
       "      <td>0.000000</td>\n",
       "      <td>0.000000</td>\n",
       "    </tr>\n",
       "    <tr>\n",
       "      <th>25%</th>\n",
       "      <td>2.000000</td>\n",
       "      <td>20.000000</td>\n",
       "      <td>0.000000</td>\n",
       "      <td>0.000000</td>\n",
       "      <td>7.895800</td>\n",
       "      <td>0.000000</td>\n",
       "    </tr>\n",
       "    <tr>\n",
       "      <th>50%</th>\n",
       "      <td>3.000000</td>\n",
       "      <td>28.000000</td>\n",
       "      <td>0.000000</td>\n",
       "      <td>0.000000</td>\n",
       "      <td>14.200000</td>\n",
       "      <td>0.000000</td>\n",
       "    </tr>\n",
       "    <tr>\n",
       "      <th>75%</th>\n",
       "      <td>3.000000</td>\n",
       "      <td>39.000000</td>\n",
       "      <td>1.000000</td>\n",
       "      <td>0.000000</td>\n",
       "      <td>31.275000</td>\n",
       "      <td>1.000000</td>\n",
       "    </tr>\n",
       "    <tr>\n",
       "      <th>max</th>\n",
       "      <td>3.000000</td>\n",
       "      <td>80.000000</td>\n",
       "      <td>8.000000</td>\n",
       "      <td>5.000000</td>\n",
       "      <td>512.329200</td>\n",
       "      <td>1.000000</td>\n",
       "    </tr>\n",
       "  </tbody>\n",
       "</table>\n",
       "</div>"
      ],
      "text/plain": [
       "           Pclass         Age       SibSp       Parch        Fare    Survived\n",
       "count  712.000000  569.000000  712.000000  712.000000  712.000000  712.000000\n",
       "mean     2.306180   30.017873    0.492978    0.363764   32.183227    0.383427\n",
       "std      0.837964   14.556518    1.121309    0.745153   48.431211    0.486563\n",
       "min      1.000000    0.750000    0.000000    0.000000    0.000000    0.000000\n",
       "25%      2.000000   20.000000    0.000000    0.000000    7.895800    0.000000\n",
       "50%      3.000000   28.000000    0.000000    0.000000   14.200000    0.000000\n",
       "75%      3.000000   39.000000    1.000000    0.000000   31.275000    1.000000\n",
       "max      3.000000   80.000000    8.000000    5.000000  512.329200    1.000000"
      ]
     },
     "execution_count": 5,
     "metadata": {},
     "output_type": "execute_result"
    }
   ],
   "source": [
    "titanic_data.describe()"
   ]
  },
  {
   "cell_type": "code",
   "execution_count": 6,
   "metadata": {},
   "outputs": [],
   "source": [
    "import seaborn as sns\n",
    "sns.set() # setting seaborn default for plots\n",
    "\n",
    "# creating bar chart function for categorical features\n",
    "def bar_chart(feature):\n",
    "    survived = titanic_data[titanic_data['Survived']==1][feature].value_counts()\n",
    "    dead = titanic_data[titanic_data['Survived']==0][feature].value_counts()\n",
    "    df = pd.DataFrame([survived,dead])\n",
    "    df.index = ['Survived','Dead']\n",
    "    df.plot(kind='bar',stacked=True, figsize=(10,5))"
   ]
  },
  {
   "cell_type": "markdown",
   "metadata": {},
   "source": [
    "**Sex**"
   ]
  },
  {
   "cell_type": "code",
   "execution_count": 7,
   "metadata": {},
   "outputs": [
    {
     "data": {
      "image/png": "[encoded data removed]",
      "text/plain": [
       "<Figure size 720x288 with 2 Axes>"
      ]
     },
     "metadata": {},
     "output_type": "display_data"
    }
   ],
   "source": [
    "# showing plot for survivel chance by sex \n",
    "survived = 'survived'\n",
    "not_survived = 'not survived'\n",
    "fig, axes = plt.subplots(nrows=1, ncols=2,figsize=(10, 4))\n",
    "women = titanic_data[titanic_data['Sex']=='female']\n",
    "men = titanic_data[titanic_data['Sex']=='male']\n",
    "ax = sns.distplot(women[women['Survived']==1].Age.dropna(), bins=18, label = survived, ax = axes[0], kde =False)\n",
    "ax = sns.distplot(women[women['Survived']==0].Age.dropna(), bins=40, label = not_survived, ax = axes[0], kde =False)\n",
    "ax.legend()\n",
    "ax.set_title('Female')\n",
    "ax = sns.distplot(men[men['Survived']==1].Age.dropna(), bins=18, label = survived, ax = axes[1], kde = False)\n",
    "ax = sns.distplot(men[men['Survived']==0].Age.dropna(), bins=40, label = not_survived, ax = axes[1], kde = False)\n",
    "ax.legend()\n",
    "_ = ax.set_title('Male')"
   ]
  },
  {
   "cell_type": "markdown",
   "metadata": {},
   "source": [
    "Conclution: We can see that men have a high probability of survival when they are between 18 and 30 years old, which is also a little bit true for women but not fully. For women the survival chances are higher between 14 and 40.\n",
    "For men the probability of survival is very low between the age of 5 and 18, but that isn’t true for women. Another thing to note is that infants also have a little bit higher probability of survival."
   ]
  },
  {
   "cell_type": "markdown",
   "metadata": {},
   "source": [
    "**Pclass**"
   ]
  },
  {
   "cell_type": "code",
   "execution_count": 8,
   "metadata": {},
   "outputs": [
    {
     "data": {
      "text/plain": [
       "<seaborn.axisgrid.FacetGrid at 0x7fd179e8ca00>"
      ]
     },
     "execution_count": 8,
     "metadata": {},
     "output_type": "execute_result"
    },
    {
     "data": {
      "image/png": "[encoded data removed]",
      "text/plain": [
       "<Figure size 515.68x475.2 with 6 Axes>"
      ]
     },
     "metadata": {},
     "output_type": "display_data"
    }
   ],
   "source": [
    "# showing plot for survivel chance by Pclass \n",
    "grid = sns.FacetGrid(titanic_data, col='Survived', row='Pclass', height=2.2, aspect=1.6)\n",
    "grid.map(plt.hist, 'Age', alpha=0.5, bins=20)\n",
    "grid.add_legend()"
   ]
  },
  {
   "cell_type": "markdown",
   "metadata": {},
   "source": [
    "Conclusions: According to the chart, we can see that 1st class more likely survivied than other classes, especially the 3rd class that more likely dead."
   ]
  },
  {
   "cell_type": "markdown",
   "metadata": {},
   "source": [
    "**SibSp**"
   ]
  },
  {
   "cell_type": "code",
   "execution_count": 9,
   "metadata": {},
   "outputs": [
    {
     "data": {
      "image/png": "[encoded data removed]",
      "text/plain": [
       "<Figure size 720x360 with 1 Axes>"
      ]
     },
     "metadata": {},
     "output_type": "display_data"
    }
   ],
   "source": [
    "bar_chart('SibSp')"
   ]
  },
  {
   "cell_type": "markdown",
   "metadata": {},
   "source": [
    "Conclusions: The Chart shows that a person aboarded with more than 2 siblings or spouse more likely survived and a person aboarded without siblings or spouse more likely dead."
   ]
  },
  {
   "cell_type": "markdown",
   "metadata": {},
   "source": [
    "**Parch**"
   ]
  },
  {
   "cell_type": "code",
   "execution_count": 10,
   "metadata": {},
   "outputs": [
    {
     "data": {
      "image/png": "[encoded data removed]",
      "text/plain": [
       "<Figure size 720x360 with 1 Axes>"
      ]
     },
     "metadata": {},
     "output_type": "display_data"
    }
   ],
   "source": [
    "bar_chart('Parch')"
   ]
  },
  {
   "cell_type": "markdown",
   "metadata": {},
   "source": [
    "Conclusions: The chart shows that a person aboarded with more than 2 parents or children more likely survived and a person aboarded alone more likely dead."
   ]
  },
  {
   "cell_type": "markdown",
   "metadata": {},
   "source": [
    "**Embarked**"
   ]
  },
  {
   "cell_type": "code",
   "execution_count": 11,
   "metadata": {},
   "outputs": [
    {
     "data": {
      "image/png": "[encoded data removed]",
      "text/plain": [
       "<Figure size 720x360 with 1 Axes>"
      ]
     },
     "metadata": {},
     "output_type": "display_data"
    }
   ],
   "source": [
    "bar_chart('Embarked')"
   ]
  },
  {
   "cell_type": "markdown",
   "metadata": {},
   "source": [
    "Conclusions: The chart shows that a person aboarded from C slightly more likely survived, a person aboarded from Q more likely dead and a person aboarded from S more likely dead."
   ]
  },
  {
   "cell_type": "code",
   "execution_count": 12,
   "metadata": {},
   "outputs": [
    {
     "data": {
      "image/png": "[encoded data removed]",
      "text/plain": [
       "<Figure size 955.55x900 with 30 Axes>"
      ]
     },
     "metadata": {},
     "output_type": "display_data"
    }
   ],
   "source": [
    "# exploration all the relation between pairs of variables in order to have a better understanding\n",
    "sns.pairplot(titanic_data, height=2.5, hue = \"Survived\", palette = \"Set2\")   \n",
    "plt.show()"
   ]
  },
  {
   "cell_type": "code",
   "execution_count": 13,
   "metadata": {},
   "outputs": [
    {
     "data": {
      "image/png": "[encoded data removed]",
      "text/plain": [
       "<Figure size 1152x720 with 2 Axes>"
      ]
     },
     "metadata": {},
     "output_type": "display_data"
    }
   ],
   "source": [
    "# exploring correlation with heatmap\n",
    "plt.figure(figsize=(16,10))\n",
    "sns.heatmap(titanic_data.corr(), cmap=\"coolwarm\", annot=True) \n",
    "plt.show()"
   ]
  },
  {
   "cell_type": "markdown",
   "metadata": {},
   "source": [
    "### 3. Data Preparation  "
   ]
  },
  {
   "cell_type": "markdown",
   "metadata": {},
   "source": [
    "**Feature: name**\n",
    "\n",
    "Using the information about the status of each passenger from the column 'Name'.\n"
   ]
  },
  {
   "cell_type": "code",
   "execution_count": 14,
   "metadata": {},
   "outputs": [
    {
     "name": "stdout",
     "output_type": "stream",
     "text": [
      "Title\n",
      "Mr              419\n",
      "Miss            142\n",
      "Mrs              93\n",
      "Master           32\n",
      "Dr                6\n",
      "Rev               6\n",
      "Major             2\n",
      "Col               2\n",
      "Mlle              2\n",
      "Sir               1\n",
      "Ms                1\n",
      "Capt              1\n",
      "Mme               1\n",
      "Lady              1\n",
      "Jonkheer          1\n",
      "Don               1\n",
      "the Countess      1\n",
      "dtype: int64\n"
     ]
    }
   ],
   "source": [
    "# copying the column 'Name' into title and then subsetting only the relevant information\n",
    "titanic_data['Title'] = titanic_data['Name'].copy()\n",
    "titanic_data['Title'] = (titanic_data['Title'].str.split(', ')).str[1]\n",
    "titanic_data['Title'] = titanic_data['Title'].str.split('.').str[0]\n",
    "\n",
    "# Checking the occurence of each title to see which is really relevant\n",
    "title_occurences = titanic_data.groupby(by='Title').size().sort_values(ascending=False)\n",
    "print(title_occurences)\n",
    "\n",
    "# splitting the titles into groups (the 4 most common alone and the others will be gathered into one group - other)\n",
    "title_occurences = titanic_data.groupby(by='Title').size().sort_values(ascending=False)\n",
    "titles = [key for key in title_occurences.keys()]\n",
    "titles_to_replace = titles[4:]\n",
    "other_list = ['other'] * len(titles_to_replace)\n",
    "titanic_data['Title'] = titanic_data['Title'].replace(titles_to_replace, other_list)\n",
    "dummies_title = pd.get_dummies(titanic_data.Title, prefix='Title')\n",
    "titanic_data = pd.concat([titanic_data, dummies_title], axis=1)\n"
   ]
  },
  {
   "cell_type": "markdown",
   "metadata": {},
   "source": [
    "**Feature: sex**\n",
    "\n",
    "Convert sex to binary:\n",
    "\n",
    "male 0, female 1"
   ]
  },
  {
   "cell_type": "code",
   "execution_count": 15,
   "metadata": {},
   "outputs": [
    {
     "data": {
      "text/plain": [
       "0      0\n",
       "1      1\n",
       "2      0\n",
       "3      0\n",
       "4      1\n",
       "      ..\n",
       "707    0\n",
       "708    0\n",
       "709    1\n",
       "710    1\n",
       "711    0\n",
       "Name: Sex, Length: 712, dtype: int64"
      ]
     },
     "execution_count": 15,
     "metadata": {},
     "output_type": "execute_result"
    }
   ],
   "source": [
    "sex = ['male', 'female']\n",
    "encoder1 = preprocessing.LabelEncoder()\n",
    "encoder1.fit(sex)\n",
    "encoder1.classes_ = np.array(sex)\n",
    "titanic_data['Sex'] = encoder1.transform(titanic_data['Sex'])\n",
    "titanic_data['Sex'].astype(int)"
   ]
  },
  {
   "cell_type": "markdown",
   "metadata": {},
   "source": [
    "**Feature: age**\n",
    "\n",
    "Replacing NA values with the mean age."
   ]
  },
  {
   "cell_type": "code",
   "execution_count": 16,
   "metadata": {},
   "outputs": [],
   "source": [
    "mean_age = int(titanic_data.Age.mean())\n",
    "titanic_data['Age'].fillna(mean_age, inplace=True)"
   ]
  },
  {
   "cell_type": "markdown",
   "metadata": {},
   "source": [
    "**Feature: embarked**\n",
    "\n",
    "Because we discovered that more than 50% of 1st, 2nd and 3rd of each class are from S embark we decided to fill out missing values in embark with S embark."
   ]
  },
  {
   "cell_type": "code",
   "execution_count": 17,
   "metadata": {},
   "outputs": [],
   "source": [
    "# filling NA's of 'Embarked' with most recurring values (mode)\n",
    "mode_embarked = titanic_data.Embarked.mode()[0]\n",
    "titanic_data['Embarked'].fillna(mode_embarked, inplace=True)\n",
    "\n",
    "# encoding column 'Embarked' into three 'One hot encoded' columns\n",
    "dummies_emb = pd.get_dummies(titanic_data.Embarked, prefix='Embarked')\n",
    "titanic_data = pd.concat([titanic_data, dummies_emb], axis=1)"
   ]
  },
  {
   "cell_type": "markdown",
   "metadata": {},
   "source": [
    "**Feature: fare**\n",
    "\n",
    "Filling missing fare values with median fare for each Pclass."
   ]
  },
  {
   "cell_type": "code",
   "execution_count": 18,
   "metadata": {},
   "outputs": [],
   "source": [
    "# fill missing Fare with median fare for each Pclass\n",
    "titanic_data[\"Fare\"].fillna(titanic_data.groupby(\"Pclass\")[\"Fare\"].transform(\"median\"), inplace=True)\n",
    "titanic_data['Fare'] = titanic_data['Fare'].fillna(0)\n",
    "titanic_data['Fare'] = titanic_data['Fare'].astype(int)"
   ]
  },
  {
   "cell_type": "markdown",
   "metadata": {},
   "source": [
    "**Feature: deck**\n",
    "\n",
    "we found out that the letter in the values of column 'Cabin' represent the level of deck where the cabin is (as the picture below)."
   ]
  },
  {
   "cell_type": "code",
   "execution_count": 19,
   "metadata": {},
   "outputs": [
    {
     "data": {
      "text/html": [
       "<img src=\"https://upload.wikimedia.org/wikipedia/commons/0/0d/Olympic_%26_Titanic_cutaway_diagram.png\"/>"
      ],
      "text/plain": [
       "<IPython.core.display.Image object>"
      ]
     },
     "execution_count": 19,
     "metadata": {},
     "output_type": "execute_result"
    }
   ],
   "source": [
    "Image(url= \"https://upload.wikimedia.org/wikipedia/commons/0/0d/Olympic_%26_Titanic_cutaway_diagram.png\")"
   ]
  },
  {
   "cell_type": "code",
   "execution_count": 20,
   "metadata": {},
   "outputs": [
    {
     "data": {
      "text/plain": [
       "0      0\n",
       "1      4\n",
       "2      0\n",
       "3      0\n",
       "4      0\n",
       "      ..\n",
       "707    0\n",
       "708    0\n",
       "709    0\n",
       "710    3\n",
       "711    0\n",
       "Name: Deck, Length: 712, dtype: int64"
      ]
     },
     "execution_count": 20,
     "metadata": {},
     "output_type": "execute_result"
    }
   ],
   "source": [
    "# First we are going to create a copy of 'Cabin' and subsetting the letter of it\n",
    "titanic_data['Deck'] = titanic_data['Cabin'].copy()\n",
    "titanic_data['Deck'] = titanic_data['Deck'].str[0]\n",
    "\n",
    "# Filling NA's with 0\n",
    "titanic_data['Deck'].fillna('0', inplace=True)\n",
    "\n",
    "# Retrieving the unique values of deck and encoding it (0,8) - where the higher we get, the lower we are on the boat\n",
    "decks = sorted(titanic_data['Deck'].unique())\n",
    "encoder2 = preprocessing.LabelEncoder()\n",
    "encoder2.fit(decks)\n",
    "encoder2.classes_ = np.array(decks)\n",
    "titanic_data['Deck'] = encoder2.transform(titanic_data['Deck'])\n",
    "titanic_data['Deck'].astype(int)\n"
   ]
  },
  {
   "cell_type": "markdown",
   "metadata": {},
   "source": [
    "### Creating new Features"
   ]
  },
  {
   "cell_type": "markdown",
   "metadata": {},
   "source": [
    "**1. Relatives**\n",
    "\n",
    "Creating new feature of total number of family members (siblings, spouses, parents, children) aboard."
   ]
  },
  {
   "cell_type": "code",
   "execution_count": 21,
   "metadata": {},
   "outputs": [],
   "source": [
    "titanic_data['Relatives'] = titanic_data['SibSp'] + titanic_data['Parch']\n",
    "titanic_data.loc[titanic_data['Relatives'] > 0, 'Not_alone'] = 0\n",
    "titanic_data.loc[titanic_data['Relatives'] == 0, 'Not_alone'] = 1\n",
    "titanic_data['Not_alone'] = titanic_data['Not_alone'].astype(int)"
   ]
  },
  {
   "cell_type": "markdown",
   "metadata": {},
   "source": [
    "**2. Age times Class**"
   ]
  },
  {
   "cell_type": "code",
   "execution_count": 22,
   "metadata": {},
   "outputs": [],
   "source": [
    "titanic_data['Age_Class']= titanic_data['Age'] * titanic_data['Pclass']"
   ]
  },
  {
   "cell_type": "markdown",
   "metadata": {},
   "source": [
    "**3. Fare per Person**"
   ]
  },
  {
   "cell_type": "code",
   "execution_count": 23,
   "metadata": {},
   "outputs": [],
   "source": [
    "titanic_data['Fare_Per_Person'] = titanic_data['Fare']/(titanic_data['Relatives']+1)\n",
    "titanic_data['Fare_Per_Person'] = titanic_data['Fare_Per_Person'].astype(int)"
   ]
  },
  {
   "cell_type": "code",
   "execution_count": 24,
   "metadata": {},
   "outputs": [],
   "source": [
    "# Dropping irrelevant columns\n",
    "titanic_data.drop(['Embarked','Cabin', 'Name', 'Title'], axis=1, inplace=True)"
   ]
  },
  {
   "cell_type": "code",
   "execution_count": 25,
   "metadata": {},
   "outputs": [
    {
     "data": {
      "text/html": [
       "<div>\n",
       "<style scoped>\n",
       "    .dataframe tbody tr th:only-of-type {\n",
       "        vertical-align: middle;\n",
       "    }\n",
       "\n",
       "    .dataframe tbody tr th {\n",
       "        vertical-align: top;\n",
       "    }\n",
       "\n",
       "    .dataframe thead th {\n",
       "        text-align: right;\n",
       "    }\n",
       "</style>\n",
       "<table border=\"1\" class=\"dataframe\">\n",
       "  <thead>\n",
       "    <tr style=\"text-align: right;\">\n",
       "      <th></th>\n",
       "      <th>Pclass</th>\n",
       "      <th>Sex</th>\n",
       "      <th>Age</th>\n",
       "      <th>SibSp</th>\n",
       "      <th>Parch</th>\n",
       "      <th>Fare</th>\n",
       "      <th>Survived</th>\n",
       "      <th>Title_Master</th>\n",
       "      <th>Title_Miss</th>\n",
       "      <th>Title_Mr</th>\n",
       "      <th>Title_Mrs</th>\n",
       "      <th>Title_other</th>\n",
       "      <th>Embarked_C</th>\n",
       "      <th>Embarked_Q</th>\n",
       "      <th>Embarked_S</th>\n",
       "      <th>Deck</th>\n",
       "      <th>Relatives</th>\n",
       "      <th>Not_alone</th>\n",
       "      <th>Age_Class</th>\n",
       "      <th>Fare_Per_Person</th>\n",
       "    </tr>\n",
       "  </thead>\n",
       "  <tbody>\n",
       "    <tr>\n",
       "      <th>0</th>\n",
       "      <td>2</td>\n",
       "      <td>0</td>\n",
       "      <td>43.0</td>\n",
       "      <td>1</td>\n",
       "      <td>1</td>\n",
       "      <td>26</td>\n",
       "      <td>0</td>\n",
       "      <td>0</td>\n",
       "      <td>0</td>\n",
       "      <td>1</td>\n",
       "      <td>0</td>\n",
       "      <td>0</td>\n",
       "      <td>0</td>\n",
       "      <td>0</td>\n",
       "      <td>1</td>\n",
       "      <td>0</td>\n",
       "      <td>2</td>\n",
       "      <td>0</td>\n",
       "      <td>86.0</td>\n",
       "      <td>8</td>\n",
       "    </tr>\n",
       "    <tr>\n",
       "      <th>1</th>\n",
       "      <td>2</td>\n",
       "      <td>1</td>\n",
       "      <td>36.0</td>\n",
       "      <td>0</td>\n",
       "      <td>0</td>\n",
       "      <td>13</td>\n",
       "      <td>1</td>\n",
       "      <td>0</td>\n",
       "      <td>0</td>\n",
       "      <td>0</td>\n",
       "      <td>1</td>\n",
       "      <td>0</td>\n",
       "      <td>0</td>\n",
       "      <td>0</td>\n",
       "      <td>1</td>\n",
       "      <td>4</td>\n",
       "      <td>0</td>\n",
       "      <td>1</td>\n",
       "      <td>72.0</td>\n",
       "      <td>13</td>\n",
       "    </tr>\n",
       "    <tr>\n",
       "      <th>2</th>\n",
       "      <td>3</td>\n",
       "      <td>0</td>\n",
       "      <td>30.0</td>\n",
       "      <td>0</td>\n",
       "      <td>0</td>\n",
       "      <td>7</td>\n",
       "      <td>0</td>\n",
       "      <td>0</td>\n",
       "      <td>0</td>\n",
       "      <td>1</td>\n",
       "      <td>0</td>\n",
       "      <td>0</td>\n",
       "      <td>0</td>\n",
       "      <td>0</td>\n",
       "      <td>1</td>\n",
       "      <td>0</td>\n",
       "      <td>0</td>\n",
       "      <td>1</td>\n",
       "      <td>90.0</td>\n",
       "      <td>7</td>\n",
       "    </tr>\n",
       "    <tr>\n",
       "      <th>3</th>\n",
       "      <td>3</td>\n",
       "      <td>0</td>\n",
       "      <td>22.0</td>\n",
       "      <td>0</td>\n",
       "      <td>0</td>\n",
       "      <td>7</td>\n",
       "      <td>0</td>\n",
       "      <td>0</td>\n",
       "      <td>0</td>\n",
       "      <td>1</td>\n",
       "      <td>0</td>\n",
       "      <td>0</td>\n",
       "      <td>0</td>\n",
       "      <td>0</td>\n",
       "      <td>1</td>\n",
       "      <td>0</td>\n",
       "      <td>0</td>\n",
       "      <td>1</td>\n",
       "      <td>66.0</td>\n",
       "      <td>7</td>\n",
       "    </tr>\n",
       "    <tr>\n",
       "      <th>4</th>\n",
       "      <td>3</td>\n",
       "      <td>1</td>\n",
       "      <td>35.0</td>\n",
       "      <td>1</td>\n",
       "      <td>1</td>\n",
       "      <td>20</td>\n",
       "      <td>1</td>\n",
       "      <td>0</td>\n",
       "      <td>0</td>\n",
       "      <td>0</td>\n",
       "      <td>1</td>\n",
       "      <td>0</td>\n",
       "      <td>0</td>\n",
       "      <td>0</td>\n",
       "      <td>1</td>\n",
       "      <td>0</td>\n",
       "      <td>2</td>\n",
       "      <td>0</td>\n",
       "      <td>105.0</td>\n",
       "      <td>6</td>\n",
       "    </tr>\n",
       "    <tr>\n",
       "      <th>5</th>\n",
       "      <td>3</td>\n",
       "      <td>0</td>\n",
       "      <td>30.0</td>\n",
       "      <td>0</td>\n",
       "      <td>0</td>\n",
       "      <td>9</td>\n",
       "      <td>0</td>\n",
       "      <td>0</td>\n",
       "      <td>0</td>\n",
       "      <td>1</td>\n",
       "      <td>0</td>\n",
       "      <td>0</td>\n",
       "      <td>0</td>\n",
       "      <td>0</td>\n",
       "      <td>1</td>\n",
       "      <td>0</td>\n",
       "      <td>0</td>\n",
       "      <td>1</td>\n",
       "      <td>90.0</td>\n",
       "      <td>9</td>\n",
       "    </tr>\n",
       "    <tr>\n",
       "      <th>6</th>\n",
       "      <td>3</td>\n",
       "      <td>0</td>\n",
       "      <td>30.0</td>\n",
       "      <td>0</td>\n",
       "      <td>0</td>\n",
       "      <td>7</td>\n",
       "      <td>1</td>\n",
       "      <td>0</td>\n",
       "      <td>0</td>\n",
       "      <td>1</td>\n",
       "      <td>0</td>\n",
       "      <td>0</td>\n",
       "      <td>0</td>\n",
       "      <td>0</td>\n",
       "      <td>1</td>\n",
       "      <td>0</td>\n",
       "      <td>0</td>\n",
       "      <td>1</td>\n",
       "      <td>90.0</td>\n",
       "      <td>7</td>\n",
       "    </tr>\n",
       "    <tr>\n",
       "      <th>7</th>\n",
       "      <td>3</td>\n",
       "      <td>0</td>\n",
       "      <td>26.0</td>\n",
       "      <td>0</td>\n",
       "      <td>0</td>\n",
       "      <td>7</td>\n",
       "      <td>0</td>\n",
       "      <td>0</td>\n",
       "      <td>0</td>\n",
       "      <td>1</td>\n",
       "      <td>0</td>\n",
       "      <td>0</td>\n",
       "      <td>0</td>\n",
       "      <td>0</td>\n",
       "      <td>1</td>\n",
       "      <td>0</td>\n",
       "      <td>0</td>\n",
       "      <td>1</td>\n",
       "      <td>78.0</td>\n",
       "      <td>7</td>\n",
       "    </tr>\n",
       "    <tr>\n",
       "      <th>8</th>\n",
       "      <td>1</td>\n",
       "      <td>1</td>\n",
       "      <td>23.0</td>\n",
       "      <td>1</td>\n",
       "      <td>0</td>\n",
       "      <td>113</td>\n",
       "      <td>1</td>\n",
       "      <td>0</td>\n",
       "      <td>1</td>\n",
       "      <td>0</td>\n",
       "      <td>0</td>\n",
       "      <td>0</td>\n",
       "      <td>1</td>\n",
       "      <td>0</td>\n",
       "      <td>0</td>\n",
       "      <td>4</td>\n",
       "      <td>1</td>\n",
       "      <td>0</td>\n",
       "      <td>23.0</td>\n",
       "      <td>56</td>\n",
       "    </tr>\n",
       "    <tr>\n",
       "      <th>9</th>\n",
       "      <td>1</td>\n",
       "      <td>1</td>\n",
       "      <td>52.0</td>\n",
       "      <td>1</td>\n",
       "      <td>1</td>\n",
       "      <td>93</td>\n",
       "      <td>1</td>\n",
       "      <td>0</td>\n",
       "      <td>0</td>\n",
       "      <td>0</td>\n",
       "      <td>1</td>\n",
       "      <td>0</td>\n",
       "      <td>0</td>\n",
       "      <td>0</td>\n",
       "      <td>1</td>\n",
       "      <td>2</td>\n",
       "      <td>2</td>\n",
       "      <td>0</td>\n",
       "      <td>52.0</td>\n",
       "      <td>31</td>\n",
       "    </tr>\n",
       "  </tbody>\n",
       "</table>\n",
       "</div>"
      ],
      "text/plain": [
       "   Pclass  Sex   Age  SibSp  Parch  Fare  Survived  Title_Master  Title_Miss  \\\n",
       "0       2    0  43.0      1      1    26         0             0           0   \n",
       "1       2    1  36.0      0      0    13         1             0           0   \n",
       "2       3    0  30.0      0      0     7         0             0           0   \n",
       "3       3    0  22.0      0      0     7         0             0           0   \n",
       "4       3    1  35.0      1      1    20         1             0           0   \n",
       "5       3    0  30.0      0      0     9         0             0           0   \n",
       "6       3    0  30.0      0      0     7         1             0           0   \n",
       "7       3    0  26.0      0      0     7         0             0           0   \n",
       "8       1    1  23.0      1      0   113         1             0           1   \n",
       "9       1    1  52.0      1      1    93         1             0           0   \n",
       "\n",
       "   Title_Mr  Title_Mrs  Title_other  Embarked_C  Embarked_Q  Embarked_S  Deck  \\\n",
       "0         1          0            0           0           0           1     0   \n",
       "1         0          1            0           0           0           1     4   \n",
       "2         1          0            0           0           0           1     0   \n",
       "3         1          0            0           0           0           1     0   \n",
       "4         0          1            0           0           0           1     0   \n",
       "5         1          0            0           0           0           1     0   \n",
       "6         1          0            0           0           0           1     0   \n",
       "7         1          0            0           0           0           1     0   \n",
       "8         0          0            0           1           0           0     4   \n",
       "9         0          1            0           0           0           1     2   \n",
       "\n",
       "   Relatives  Not_alone  Age_Class  Fare_Per_Person  \n",
       "0          2          0       86.0                8  \n",
       "1          0          1       72.0               13  \n",
       "2          0          1       90.0                7  \n",
       "3          0          1       66.0                7  \n",
       "4          2          0      105.0                6  \n",
       "5          0          1       90.0                9  \n",
       "6          0          1       90.0                7  \n",
       "7          0          1       78.0                7  \n",
       "8          1          0       23.0               56  \n",
       "9          2          0       52.0               31  "
      ]
     },
     "execution_count": 25,
     "metadata": {},
     "output_type": "execute_result"
    }
   ],
   "source": [
    "titanic_data.head(10)"
   ]
  },
  {
   "cell_type": "markdown",
   "metadata": {},
   "source": [
    "### 4. Implementing Models"
   ]
  },
  {
   "cell_type": "code",
   "execution_count": 26,
   "metadata": {},
   "outputs": [],
   "source": [
    "# Importing Classifier Modules\n",
    "from sklearn.neighbors import KNeighborsClassifier\n",
    "from sklearn.linear_model import LogisticRegression\n",
    "from sklearn.svm import SVC\n",
    "from sklearn.linear_model import LinearRegression\n",
    "from sklearn.model_selection import train_test_split, GridSearchCV, cross_val_score\n",
    "from sklearn.metrics import confusion_matrix, roc_curve, roc_auc_score \n",
    "import matplotlib.pyplot as plt"
   ]
  },
  {
   "cell_type": "code",
   "execution_count": 27,
   "metadata": {},
   "outputs": [],
   "source": [
    "# spliting data to test and training data\n",
    "X = titanic_data.drop('Survived', axis=1)\n",
    "y = titanic_data['Survived']\n",
    "\n",
    "X_train, X_test, y_train, y_test = train_test_split(X, y, test_size=0.2, random_state=1, stratify=y)"
   ]
  },
  {
   "cell_type": "markdown",
   "metadata": {},
   "source": [
    "### Base line model"
   ]
  },
  {
   "cell_type": "markdown",
   "metadata": {},
   "source": [
    "**Baseline for knn:**"
   ]
  },
  {
   "cell_type": "code",
   "execution_count": 28,
   "metadata": {},
   "outputs": [
    {
     "name": "stdout",
     "output_type": "stream",
     "text": [
      "KNN accuracy score: 0.7622\n"
     ]
    }
   ],
   "source": [
    "knn = KNeighborsClassifier()\n",
    "knn.fit(X_train, y_train)\n",
    "\n",
    "y_pred = knn.predict(X_test)\n",
    "accuracy = accuracy_score(y_test, y_pred)       \n",
    "print(\"KNN accuracy score: %.4f\" % accuracy)"
   ]
  },
  {
   "cell_type": "markdown",
   "metadata": {},
   "source": [
    "**Baseline for logistic regression:**"
   ]
  },
  {
   "cell_type": "code",
   "execution_count": 29,
   "metadata": {},
   "outputs": [
    {
     "name": "stdout",
     "output_type": "stream",
     "text": [
      "Logistic Regression accuracy score: 0.8671\n"
     ]
    }
   ],
   "source": [
    "## baseline for logistic regression \n",
    "log_reg = LogisticRegression()\n",
    "log_reg.fit(X_train, y_train)\n",
    "\n",
    "y_pred_ = log_reg.predict(X_test)\n",
    "acc_log = accuracy_score(y_test, y_pred_)       \n",
    "print(\"Logistic Regression accuracy score: %.4f\" % acc_log)"
   ]
  },
  {
   "cell_type": "markdown",
   "metadata": {},
   "source": [
    "**Baseline for SVM:**"
   ]
  },
  {
   "cell_type": "code",
   "execution_count": 30,
   "metadata": {},
   "outputs": [
    {
     "name": "stdout",
     "output_type": "stream",
     "text": [
      "SVM accuracy score: 0.7273\n"
     ]
    }
   ],
   "source": [
    "## baseline for SVM\n",
    "reg_svc = SVC()\n",
    "reg_svc.fit(X_train, y_train)\n",
    "\n",
    "Y_predict = reg_svc.predict(X_test)\n",
    "\n",
    "acc_svc1 = accuracy_score(y_test, Y_predict)       \n",
    "print(\"SVM accuracy score: %.4f\" % acc_svc1)"
   ]
  },
  {
   "cell_type": "markdown",
   "metadata": {},
   "source": [
    "**Baseline for linear regression:**"
   ]
  },
  {
   "cell_type": "code",
   "execution_count": 31,
   "metadata": {},
   "outputs": [
    {
     "name": "stdout",
     "output_type": "stream",
     "text": [
      "MSE = 0.1399\n",
      "Linear Regression accuracy of prediction is: 0.860\n"
     ]
    }
   ],
   "source": [
    "lin_reg = LinearRegression()\n",
    "lin_reg.fit(X_train, y_train)\n",
    "\n",
    "ypred = lin_reg.predict(X_test)\n",
    "ypred_rounded = np.where(ypred > 1, 1, np.where(ypred < 0, 0, np.round(ypred)))\n",
    "        \n",
    "print(\"MSE = %.4f\" % mean_squared_error(y_test, ypred_rounded))\n",
    "\n",
    "total = X_test.shape[0]\n",
    "correct = np.sum(y_test == ypred_rounded)\n",
    "print(\"Linear Regression accuracy of prediction is: %.3f\" % (correct/total))"
   ]
  },
  {
   "cell_type": "markdown",
   "metadata": {},
   "source": [
    "### Trainning models"
   ]
  },
  {
   "cell_type": "code",
   "execution_count": 32,
   "metadata": {},
   "outputs": [],
   "source": [
    "# scaling data (z-score method)\n",
    "standard_scaler = preprocessing.StandardScaler()\n",
    "standard_scaler.fit(X_train)\n",
    "Xtrain_scaled = standard_scaler.transform(X_train)\n",
    "Xtest_scaled = standard_scaler.transform(X_test)\n",
    "\n",
    "# scaling data (min-max method)\n",
    "minmax_scaler = preprocessing.MinMaxScaler(feature_range=(0, 1))\n",
    "minmax_scaler.fit(X_train)\n",
    "Xtrain_minmax = minmax_scaler.transform(X_train)\n",
    "Xtest_minmax = minmax_scaler.transform(X_test)\n"
   ]
  },
  {
   "cell_type": "markdown",
   "metadata": {},
   "source": [
    "**Model: KNN**"
   ]
  },
  {
   "cell_type": "code",
   "execution_count": 33,
   "metadata": {},
   "outputs": [
    {
     "name": "stdout",
     "output_type": "stream",
     "text": [
      "In the test set result for standard scaler, the accuracy score is 0.8601\n",
      "In the test set result for min-max scaler, the accuracy score is 0.8811\n"
     ]
    }
   ],
   "source": [
    "# standard scaler\n",
    "knn1 = KNeighborsClassifier()\n",
    "knn1.fit(Xtrain_scaled, y_train)\n",
    "y_pred1 = knn1.predict(Xtest_scaled)\n",
    "accuracy1 = accuracy_score(y_test, y_pred1)\n",
    "\n",
    "print(\"In the test set result for standard scaler, the accuracy score is %.4f\" % accuracy1)\n",
    "\n",
    "# min-max scaler\n",
    "knn2 = KNeighborsClassifier()\n",
    "knn2.fit(Xtrain_minmax, y_train)\n",
    "y_pred2 = knn2.predict(Xtest_minmax)\n",
    "accuracy2 = accuracy_score(y_test, y_pred2)\n",
    "\n",
    "print(\"In the test set result for min-max scaler, the accuracy score is %.4f\" % accuracy2)"
   ]
  },
  {
   "cell_type": "code",
   "execution_count": 34,
   "metadata": {},
   "outputs": [
    {
     "name": "stdout",
     "output_type": "stream",
     "text": [
      "For standard scaling, the best number of neighbors is 17 and best p=1 with a score of 0.807\n",
      "\n",
      "For minmax scaling, the best number of neighbors is 8 and best p=1 with a score of 0.807\n"
     ]
    }
   ],
   "source": [
    "param_grid = {'n_neighbors': np.arange(1, 35), 'p': np.arange(1,2)}\n",
    "\n",
    "# finding the best number of neighbors for standard scaling\n",
    "knn3 = KNeighborsClassifier()\n",
    "knn_gscv = GridSearchCV(knn3, param_grid, cv=8)\n",
    "knn_gscv.fit(Xtrain_scaled, y_train)\n",
    "print(\"For standard scaling, the best number of neighbors is %d\" % knn_gscv.best_params_['n_neighbors'], \n",
    "      \"and best p=%d\" %knn_gscv.best_params_['p'], \"with a score of %.3f\" % knn_gscv.best_score_)\n",
    "\n",
    "# finding the best number of neighbors for min-max scaling\n",
    "knn4 = KNeighborsClassifier()\n",
    "knn_gscv2 = GridSearchCV(knn4, param_grid, cv=8)\n",
    "knn_gscv2.fit(Xtrain_minmax, y_train)\n",
    "print(\"\\nFor minmax scaling, the best number of neighbors is %d\" % knn_gscv2.best_params_['n_neighbors'], \n",
    "      \"and best p=%d\" %knn_gscv2.best_params_['p'], \"with a score of %.3f\" % knn_gscv2.best_score_)"
   ]
  },
  {
   "cell_type": "markdown",
   "metadata": {},
   "source": [
    "The best number of neighbors we got with standard scaler method and min-max scaler method are unfortunately not  indeed the best parameters. Let's try it on the KNN model and look also for the values close to it in order to find the best fit."
   ]
  },
  {
   "cell_type": "code",
   "execution_count": 35,
   "metadata": {},
   "outputs": [
    {
     "name": "stdout",
     "output_type": "stream",
     "text": [
      "In the test set result for standard scaler, the accuracy score is 0.8811\n",
      "In the test set result for min-max scaler, the accuracy score is 0.8741\n"
     ]
    }
   ],
   "source": [
    "# using the best number of neighbors = 17 \n",
    "knn5 = KNeighborsClassifier(n_neighbors=10, p=2)\n",
    "knn5.fit(Xtrain_scaled, y_train)\n",
    "y_pred5 = knn5.predict(Xtest_scaled)\n",
    "accuracy5 = accuracy_score(y_test, y_pred5)\n",
    " \n",
    "print(\"In the test set result for standard scaler, the accuracy score is %.4f\" % accuracy5)\n",
    "\n",
    "# using the best number of neighbors = 7\n",
    "knn6 = KNeighborsClassifier(n_neighbors=7, p=1)\n",
    "knn6.fit(Xtrain_minmax, y_train)\n",
    "y_pred6 = knn6.predict(Xtest_minmax)\n",
    "accuracy6 = accuracy_score(y_test, y_pred6)\n",
    " \n",
    "print(\"In the test set result for min-max scaler, the accuracy score is %.4f\" % accuracy6)"
   ]
  },
  {
   "cell_type": "code",
   "execution_count": 36,
   "metadata": {},
   "outputs": [
    {
     "name": "stdout",
     "output_type": "stream",
     "text": [
      "[0.75438596 0.78947368 0.81578947 0.81578947 0.81415929]\n",
      "cv_scores mean: 79.8%\n",
      "cv_scores std: 2.4%\n"
     ]
    }
   ],
   "source": [
    "# using cross validation \n",
    "knn_cv = KNeighborsClassifier(n_neighbors=20, p=1)    \n",
    "cv_scores = cross_val_score(knn_cv, Xtrain_scaled, y_train, cv=5)  \n",
    "\n",
    "cv_scores_mean = statistics.mean(cv_scores)\n",
    "all_scores_knn = [cv_scores_mean, accuracy5, accuracy6]\n",
    "acc_knn = max(all_scores_knn)*100\n",
    "\n",
    "print(cv_scores)\n",
    "print('cv_scores mean: %.1f%%' % (100*np.mean(cv_scores)))\n",
    "print ('cv_scores std: %.1f%%' % (100*np.std(cv_scores)))"
   ]
  },
  {
   "cell_type": "code",
   "execution_count": 37,
   "metadata": {},
   "outputs": [
    {
     "name": "stdout",
     "output_type": "stream",
     "text": [
      "Accuracy= 0.8811188811188811\n",
      "Precision= 0.8901098901098901\n",
      "Recall= 0.9204545454545454\n",
      "F1 score= 0.9050279329608938\n"
     ]
    }
   ],
   "source": [
    "# performance measures  \n",
    "knn_confusion_matrix = confusion_matrix(y_test, y_pred5)\n",
    "\n",
    "knn_TP = knn_confusion_matrix[0,0]\n",
    "knn_FN = knn_confusion_matrix[0,1]\n",
    "knn_FP = knn_confusion_matrix[1,0]\n",
    "knn_TN = knn_confusion_matrix[1,1]\n",
    "\n",
    "knn_accuracy = (knn_TP + knn_TN) / (knn_FN + knn_FP + knn_TP + knn_TN)\n",
    "print(\"Accuracy=\", knn_accuracy)\n",
    "\n",
    "knn_precision = knn_TP / (knn_TP + knn_FP)\n",
    "print(\"Precision=\", knn_precision)\n",
    "\n",
    "knn_recall = knn_TP / (knn_TP + knn_FN)\n",
    "print(\"Recall=\", knn_recall)\n",
    "\n",
    "knn_F1 = 2*knn_precision*knn_recall / (knn_precision + knn_recall)\n",
    "print(\"F1 score=\", knn_F1)"
   ]
  },
  {
   "cell_type": "markdown",
   "metadata": {},
   "source": [
    "**Model: SVM**"
   ]
  },
  {
   "cell_type": "code",
   "execution_count": 38,
   "metadata": {},
   "outputs": [
    {
     "name": "stdout",
     "output_type": "stream",
     "text": [
      "In the test set result for standard scaler, the accuracy score is 0.8671\n",
      "In the test set result for min-max scaler, the accuracy score is 0.8462\n"
     ]
    }
   ],
   "source": [
    "# standard scaler\n",
    "svc1 = SVC()\n",
    "svc1.fit(Xtrain_scaled, y_train)\n",
    "y_pred_1 = svc1.predict(Xtest_scaled)\n",
    "accuracy_1 = accuracy_score(y_test, y_pred_1)\n",
    "\n",
    "print(\"In the test set result for standard scaler, the accuracy score is %.4f\" % accuracy_1)\n",
    "\n",
    "# min-max scaler\n",
    "svc2 = SVC()\n",
    "svc2.fit(Xtrain_minmax, y_train)\n",
    "y_pred_2 = svc2.predict(Xtest_minmax)\n",
    "accuracy_2 = accuracy_score(y_test, y_pred_2)\n",
    "     \n",
    "print(\"In the test set result for min-max scaler, the accuracy score is %.4f\" % accuracy_2)"
   ]
  },
  {
   "cell_type": "code",
   "execution_count": 39,
   "metadata": {},
   "outputs": [
    {
     "name": "stdout",
     "output_type": "stream",
     "text": [
      "[0.78070175 0.75438596 0.80701754 0.81578947 0.84070796]\n",
      "cv_scores mean: 80.0%\n",
      "cv_scores std: 3.0%\n"
     ]
    }
   ],
   "source": [
    "# using cross validation \n",
    "svc_cv = SVC() \n",
    "cv_scores_svc = cross_val_score(svc_cv, Xtrain_scaled, y_train, cv=5)  \n",
    "\n",
    "cv_scores_mean_ = statistics.mean(cv_scores_svc)\n",
    "all_scores = [cv_scores_mean_, accuracy_1, accuracy_2]\n",
    "acc_svc = max(all_scores)*100\n",
    "\n",
    "print(cv_scores_svc)\n",
    "print('cv_scores mean: %.1f%%' % (100*np.mean(cv_scores_svc)))\n",
    "print ('cv_scores std: %.1f%%' % (100*np.std(cv_scores_svc)))"
   ]
  },
  {
   "cell_type": "code",
   "execution_count": 40,
   "metadata": {},
   "outputs": [
    {
     "name": "stdout",
     "output_type": "stream",
     "text": [
      "Accuracy= 0.8671328671328671\n",
      "Precision= 0.8791208791208791\n",
      "Recall= 0.9090909090909091\n",
      "F1 score= 0.8938547486033518\n"
     ]
    }
   ],
   "source": [
    "# performance measures  \n",
    "SVM_confusion_matrix = confusion_matrix(y_test, y_pred_1)\n",
    "\n",
    "SVM_TP = SVM_confusion_matrix[0,0]\n",
    "SVM_FN = SVM_confusion_matrix[0,1]\n",
    "SVM_FP = SVM_confusion_matrix[1,0]\n",
    "SVM_TN = SVM_confusion_matrix[1,1]\n",
    "\n",
    "SVM_accuracy = (SVM_TP + SVM_TN) / (SVM_FN + SVM_FP + SVM_TP + SVM_TN)\n",
    "print(\"Accuracy=\", SVM_accuracy)\n",
    "\n",
    "SVM_precision = SVM_TP / (SVM_TP + SVM_FP)\n",
    "print(\"Precision=\", SVM_precision)\n",
    "\n",
    "SVM_recall = SVM_TP / (SVM_TP + SVM_FN)\n",
    "print(\"Recall=\", SVM_recall)\n",
    "\n",
    "SVM_F1 = 2*SVM_precision*SVM_recall / (SVM_precision + SVM_recall)\n",
    "print(\"F1 score=\", SVM_F1)"
   ]
  },
  {
   "cell_type": "markdown",
   "metadata": {},
   "source": [
    "**Model: Logistic Regression**"
   ]
  },
  {
   "cell_type": "code",
   "execution_count": 41,
   "metadata": {},
   "outputs": [
    {
     "name": "stdout",
     "output_type": "stream",
     "text": [
      "In the test set result for standard scaler, the accuracy score is 0.8741\n",
      "In the test set result for min-max scaler, the accuracy score is 0.8741\n"
     ]
    }
   ],
   "source": [
    "# standard scaler\n",
    "log_reg1 = LogisticRegression()\n",
    "log_reg1.fit(Xtrain_scaled, y_train)\n",
    "y_pred11 = log_reg1.predict(Xtest_scaled)\n",
    "accuracy11 = accuracy_score(y_test, y_pred11)\n",
    "\n",
    "print(\"In the test set result for standard scaler, the accuracy score is %.4f\" % accuracy11)\n",
    "\n",
    "# min-max scaler\n",
    "log_reg2 = LogisticRegression()\n",
    "log_reg2.fit(Xtrain_minmax, y_train)\n",
    "y_pred22 = log_reg2.predict(Xtest_minmax)\n",
    "accuracy22 = accuracy_score(y_test, y_pred22)\n",
    "\n",
    "print(\"In the test set result for min-max scaler, the accuracy score is %.4f\" % accuracy22)"
   ]
  },
  {
   "cell_type": "code",
   "execution_count": 42,
   "metadata": {},
   "outputs": [
    {
     "name": "stdout",
     "output_type": "stream",
     "text": [
      "[0.78070175 0.75438596 0.80701754 0.81578947 0.84070796]\n",
      "cv_scores mean: 80.7%\n",
      "cv_scores std: 1.6%\n"
     ]
    }
   ],
   "source": [
    "# using cross validation \n",
    "log_reg_cv = LogisticRegression()\n",
    "cv_scores_log_reg = cross_val_score(log_reg_cv, Xtrain_scaled, y_train, cv=5)  \n",
    "\n",
    "cv_scores_mean_1 = statistics.mean(cv_scores_log_reg)\n",
    "all_scores = [cv_scores_mean_1, accuracy11, accuracy22]\n",
    "acc_log = max(all_scores)*100\n",
    "\n",
    "print(cv_scores_svc)\n",
    "print('cv_scores mean: %.1f%%' % (100*np.mean(cv_scores_log_reg)))\n",
    "print ('cv_scores std: %.1f%%' % (100*np.std(cv_scores_log_reg)))"
   ]
  },
  {
   "cell_type": "code",
   "execution_count": 43,
   "metadata": {},
   "outputs": [
    {
     "name": "stdout",
     "output_type": "stream",
     "text": [
      "Accuracy= 0.8741258741258742\n",
      "Precision= 0.8888888888888888\n",
      "Recall= 0.9090909090909091\n",
      "F1 score= 0.8988764044943819\n"
     ]
    }
   ],
   "source": [
    "# performance measures  \n",
    "log_reg_confusion_matrix = confusion_matrix(y_test, y_pred11)\n",
    "\n",
    "log_reg_TP = log_reg_confusion_matrix[0,0]\n",
    "log_reg_FN = log_reg_confusion_matrix[0,1]\n",
    "log_reg_FP = log_reg_confusion_matrix[1,0]\n",
    "log_reg_TN = log_reg_confusion_matrix[1,1]\n",
    "\n",
    "log_reg_accuracy = (log_reg_TP + log_reg_TN) / (log_reg_FN + log_reg_FP + log_reg_TP + log_reg_TN)\n",
    "print(\"Accuracy=\", log_reg_accuracy)\n",
    "\n",
    "log_reg_precision = log_reg_TP / (log_reg_TP + log_reg_FP)\n",
    "print(\"Precision=\", log_reg_precision)\n",
    "\n",
    "log_reg_recall = log_reg_TP / (log_reg_TP + log_reg_FN)\n",
    "print(\"Recall=\", log_reg_recall)\n",
    "\n",
    "log_reg_F1 = 2*log_reg_precision*log_reg_recall / (log_reg_precision + log_reg_recall)\n",
    "print(\"F1 score=\", log_reg_F1)"
   ]
  },
  {
   "cell_type": "markdown",
   "metadata": {},
   "source": [
    "**Model: Linear Regression**"
   ]
  },
  {
   "cell_type": "code",
   "execution_count": 44,
   "metadata": {},
   "outputs": [
    {
     "name": "stdout",
     "output_type": "stream",
     "text": [
      "With standard scaling:\n",
      "MSE = 0.1329\n",
      "Accuracy of prediction is: 0.867\n",
      "\n",
      "With min-max scaling:\n",
      "MSE = 0.1329\n",
      "Accuracy of prediction is: 0.867\n"
     ]
    }
   ],
   "source": [
    "# standard scaler\n",
    "lin_reg1 = LinearRegression()\n",
    "lin_reg1.fit(Xtrain_scaled, y_train)\n",
    "\n",
    "ypred1 = lin_reg1.predict(Xtest_scaled)\n",
    "ypred1_rounded = np.where(ypred1 > 1, 1, np.where(ypred1 < 0, 0, np.round(ypred1)))\n",
    "\n",
    "print(\"With standard scaling:\")\n",
    "print(\"MSE = %.4f\" % mean_squared_error(y_test, ypred1_rounded))\n",
    "total1 = Xtest_scaled.shape[0]\n",
    "correct1 = np.sum(y_test == ypred1_rounded)\n",
    "print(\"Accuracy of prediction is: %.3f\" % (correct1/total1))\n",
    "\n",
    "# min-max scaler\n",
    "lin_reg2 = LinearRegression()\n",
    "lin_reg2.fit(Xtrain_minmax, y_train)\n",
    "\n",
    "ypred2 = lin_reg2.predict(Xtest_minmax)\n",
    "ypred2_rounded = np.where(ypred2 > 1, 1, np.where(ypred2 < 0, 0, np.round(ypred2)))\n",
    "\n",
    "print(\"\\nWith min-max scaling:\")\n",
    "print(\"MSE = %.4f\" % mean_squared_error(y_test, ypred2_rounded))\n",
    "total2 = Xtest_minmax.shape[0]\n",
    "correct2 = np.sum(y_test == ypred2_rounded)\n",
    "print(\"Accuracy of prediction is: %.3f\" % (correct2/total2))"
   ]
  },
  {
   "cell_type": "code",
   "execution_count": 45,
   "metadata": {},
   "outputs": [
    {
     "name": "stdout",
     "output_type": "stream",
     "text": [
      "MSE = 0.1329\n",
      "Accuracy of prediction is: 0.867\n"
     ]
    }
   ],
   "source": [
    "# removing variables with the least influence on the target\n",
    "Xtrain2 = X_train.iloc[:,[0,1,2,3,4,5,6,7,8,9,10,11,12,13,14]]\n",
    "Xtest2 = X_test.iloc[:,[0,1,2,3,4,5,6,7,8,9,10,11,12,13,14]]\n",
    "\n",
    "lin_reg3 = LinearRegression()\n",
    "lin_reg3.fit(Xtrain2, y_train)\n",
    "ypred3 = lin_reg3.predict(Xtest2)\n",
    "ypred3_rounded = np.where(ypred3 > 1, 1, np.where(ypred3 < 0, 0, np.round(ypred3)))\n",
    "\n",
    "print(\"MSE = %.4f\" % mean_squared_error(y_test, ypred3_rounded))\n",
    "\n",
    "total3 = Xtest2.shape[0]\n",
    "correct3 = np.sum(y_test == ypred3_rounded)\n",
    "\n",
    "log_reg_all_scores = [(correct3/total3), (correct2/total2), (correct1/total1)]\n",
    "acc_reg = max(log_reg_all_scores)*100\n",
    "\n",
    "print(\"Accuracy of prediction is: %.3f\" % (correct3/total3))"
   ]
  },
  {
   "cell_type": "code",
   "execution_count": 46,
   "metadata": {},
   "outputs": [
    {
     "name": "stdout",
     "output_type": "stream",
     "text": [
      "Accuracy= 0.8671328671328671\n",
      "Precision= 0.8791208791208791\n",
      "Recall= 0.9090909090909091\n",
      "F1 score= 0.8938547486033518\n"
     ]
    }
   ],
   "source": [
    "# performance measures  \n",
    "lin_reg_confusion_matrix = confusion_matrix(y_test, ypred3_rounded)\n",
    "\n",
    "lin_reg_TP = lin_reg_confusion_matrix[0,0]\n",
    "lin_reg_FN = lin_reg_confusion_matrix[0,1]\n",
    "lin_reg_FP = lin_reg_confusion_matrix[1,0]\n",
    "lin_reg_TN = lin_reg_confusion_matrix[1,1]\n",
    "\n",
    "lin_reg_accuracy = (lin_reg_TP + lin_reg_TN) / (lin_reg_FN + lin_reg_FP + lin_reg_TP + lin_reg_TN)\n",
    "print(\"Accuracy=\", lin_reg_accuracy)\n",
    "\n",
    "lin_reg_precision = lin_reg_TP / (lin_reg_TP + lin_reg_FP)\n",
    "print(\"Precision=\", lin_reg_precision)\n",
    "\n",
    "lin_reg_recall = lin_reg_TP / (lin_reg_TP + lin_reg_FN)\n",
    "print(\"Recall=\", lin_reg_recall)\n",
    "\n",
    "lin_reg_F1 = 2*lin_reg_precision*lin_reg_recall / (lin_reg_precision + lin_reg_recall)\n",
    "print(\"F1 score=\", lin_reg_F1)"
   ]
  },
  {
   "cell_type": "markdown",
   "metadata": {},
   "source": [
    "**Results**"
   ]
  },
  {
   "cell_type": "code",
   "execution_count": 47,
   "metadata": {},
   "outputs": [
    {
     "data": {
      "text/html": [
       "<div>\n",
       "<style scoped>\n",
       "    .dataframe tbody tr th:only-of-type {\n",
       "        vertical-align: middle;\n",
       "    }\n",
       "\n",
       "    .dataframe tbody tr th {\n",
       "        vertical-align: top;\n",
       "    }\n",
       "\n",
       "    .dataframe thead th {\n",
       "        text-align: right;\n",
       "    }\n",
       "</style>\n",
       "<table border=\"1\" class=\"dataframe\">\n",
       "  <thead>\n",
       "    <tr style=\"text-align: right;\">\n",
       "      <th></th>\n",
       "      <th>Accuracy</th>\n",
       "      <th>Precision</th>\n",
       "      <th>Recall</th>\n",
       "      <th>F1 score</th>\n",
       "    </tr>\n",
       "    <tr>\n",
       "      <th>Model</th>\n",
       "      <th></th>\n",
       "      <th></th>\n",
       "      <th></th>\n",
       "      <th></th>\n",
       "    </tr>\n",
       "  </thead>\n",
       "  <tbody>\n",
       "    <tr>\n",
       "      <th>KNN</th>\n",
       "      <td>0.881119</td>\n",
       "      <td>0.890110</td>\n",
       "      <td>0.920455</td>\n",
       "      <td>0.905028</td>\n",
       "    </tr>\n",
       "    <tr>\n",
       "      <th>Logistic Regression</th>\n",
       "      <td>0.874126</td>\n",
       "      <td>0.888889</td>\n",
       "      <td>0.909091</td>\n",
       "      <td>0.898876</td>\n",
       "    </tr>\n",
       "    <tr>\n",
       "      <th>Support Vector Machines</th>\n",
       "      <td>0.867133</td>\n",
       "      <td>0.879121</td>\n",
       "      <td>0.909091</td>\n",
       "      <td>0.893855</td>\n",
       "    </tr>\n",
       "    <tr>\n",
       "      <th>Linear Regression</th>\n",
       "      <td>0.867133</td>\n",
       "      <td>0.879121</td>\n",
       "      <td>0.909091</td>\n",
       "      <td>0.893855</td>\n",
       "    </tr>\n",
       "  </tbody>\n",
       "</table>\n",
       "</div>"
      ],
      "text/plain": [
       "                         Accuracy  Precision    Recall  F1 score\n",
       "Model                                                           \n",
       "KNN                      0.881119   0.890110  0.920455  0.905028\n",
       "Logistic Regression      0.874126   0.888889  0.909091  0.898876\n",
       "Support Vector Machines  0.867133   0.879121  0.909091  0.893855\n",
       "Linear Regression        0.867133   0.879121  0.909091  0.893855"
      ]
     },
     "execution_count": 47,
     "metadata": {},
     "output_type": "execute_result"
    }
   ],
   "source": [
    "performance_measures  = pd.DataFrame({\n",
    "    'Model': ['Support Vector Machines', 'KNN', 'Logistic Regression', 'Linear Regression'],\n",
    "    'Accuracy': [SVM_accuracy, knn_accuracy, log_reg_accuracy, lin_reg_accuracy],\n",
    "    'Precision':[SVM_precision, knn_precision, log_reg_precision, lin_reg_precision],\n",
    "    'Recall':[SVM_recall, knn_recall, log_reg_recall, lin_reg_recall],\n",
    "    'F1 score':[SVM_F1, knn_F1, log_reg_F1, lin_reg_F1]})\n",
    "performance_measures_df = performance_measures.sort_values(by='Accuracy', ascending=False)\n",
    "performance_measures_df = performance_measures_df.set_index('Model')\n",
    "performance_measures_df.head()"
   ]
  },
  {
   "cell_type": "code",
   "execution_count": 49,
   "metadata": {
    "scrolled": true
   },
   "outputs": [
    {
     "name": "stdout",
     "output_type": "stream",
     "text": [
      "roc_auc_score for k-NN:  0.8693181818181819\n",
      "roc_auc_score for SVM:  0.8545454545454545\n",
      "roc_auc_score for Logistic Regression:  0.8636363636363636\n",
      "roc_auc_score for Linear Regression:  0.8545454545454545\n"
     ]
    },
    {
     "data": {
      "image/png": "[encoded data removed]",
      "text/plain": [
       "<Figure size 720x720 with 1 Axes>"
      ]
     },
     "metadata": {},
     "output_type": "display_data"
    }
   ],
   "source": [
    "# ROC curve\n",
    "false_positive_rate_knn, true_positive_rate_knn, threshold_knn= roc_curve(y_test, y_pred5)\n",
    "print('roc_auc_score for k-NN: ', roc_auc_score(y_test, y_pred5))\n",
    "\n",
    "\n",
    "false_positive_rate_SVM, true_positive_rate_SVM, threshold_SVM = roc_curve(y_test, y_pred_1)\n",
    "print('roc_auc_score for SVM: ', roc_auc_score(y_test, y_pred_1))\n",
    "\n",
    "false_positive_rate_log_reg, true_positive_rate_log_reg, threshold_log_reg = roc_curve(y_test, y_pred11)\n",
    "print('roc_auc_score for Logistic Regression: ', roc_auc_score(y_test, y_pred11))\n",
    "\n",
    "false_positive_rate_lin_reg, true_positive_rate_lin_reg, threshold_lin_reg = roc_curve(y_test, ypred3_rounded)\n",
    "print('roc_auc_score for Linear Regression: ', roc_auc_score(y_test, ypred3_rounded))\n",
    "\n",
    "\n",
    "plt.subplots(1, figsize=(10,10))\n",
    "plt.title('ROC')\n",
    "plt.plot(false_positive_rate_knn, true_positive_rate_knn)\n",
    "plt.plot(false_positive_rate_SVM, true_positive_rate_SVM)\n",
    "plt.plot(false_positive_rate_log_reg, true_positive_rate_log_reg)\n",
    "plt.plot(false_positive_rate_lin_reg, true_positive_rate_lin_reg)\n",
    "plt.legend(['k-NN','SVM','Logistic Regression','Linear Regression'])\n",
    "plt.plot([0, 1], ls=\"--\")\n",
    "plt.plot([0, 0], [1, 0] , c=\".7\"), plt.plot([1, 1] , c=\".7\")\n",
    "plt.ylabel('True Positive Rate')\n",
    "plt.xlabel('False Positive Rate')\n",
    "plt.show()"
   ]
  },
  {
   "cell_type": "markdown",
   "metadata": {},
   "source": [
    "**Conclusion**"
   ]
  },
  {
   "cell_type": "markdown",
   "metadata": {},
   "source": [
    "We reached the highest accuracy using the KNN model with a standard scaling method with a number of neighbors = 10 and p = 2. \n",
    "Looking at all the measurement metrics, precision can be seen as a measure of quality, and recall as a measure of quantity. \n",
    "\n",
    "Since in this case, it is more important for us to predict all surviving people, even if we were wrong, and predict people that didn't survive as survived. For that reason, we decided to focus on the recall metric. Looking at the table that compares the models it can be seen that the recall score of the KNN model is also the highest\n",
    "\n",
    "Furthermore, the plot above compares the ROC curve of each model. As we can see, the models behave quite the same - predict beyond random with a slight advantage to the KNN model.\n",
    "\n",
    "For all those reason we so chose the KNN model."
   ]
  },
  {
   "cell_type": "markdown",
   "metadata": {},
   "source": [
    "### 5. Testing"
   ]
  },
  {
   "cell_type": "markdown",
   "metadata": {},
   "source": [
    "In order to make predictions on new data , we will first do the pre-processing we did above and then use our current file as our training data, and the test run on the new data (also after the same pre-processing we use on the training data will be done).\n",
    "In order to examine the model performance on a test dataset, please enter the file name in the appropriate place after the next function.\n",
    "\n",
    "In the end, we will get a result of all the models for general comparison, but we will focus on the results of the KNN model because this is the model we chose for the purpose of the task."
   ]
  },
  {
   "cell_type": "code",
   "execution_count": 50,
   "metadata": {},
   "outputs": [],
   "source": [
    "def test_file_transformation(test_file_name):\n",
    "\n",
    "    df = pd.read_csv(test_file_name, header=0)\n",
    "    titanic_test = df.copy()\n",
    "    irrelevant_cols = ['PassengerId', 'Ticket']   # dropping those columns because irrelevant for evaluation of data\n",
    "    titanic_test = titanic_test.drop(irrelevant_cols, axis=1)\n",
    "    titanic_test['Title'] = titanic_test['Name'].copy()\n",
    "    titanic_test['Title'] = (titanic_test['Title'].str.split(', ')).str[1]\n",
    "    titanic_test['Title'] = titanic_test['Title'].str.split('.').str[0]\n",
    "\n",
    "    # Title Column\n",
    "    title_occurences = titanic_test.groupby(by='Title').size().sort_values(ascending=False)\n",
    "    titles = [key for key in title_occurences.keys()]\n",
    "    titles_to_replace = titles[4:]\n",
    "    other_list = ['other'] * len(titles_to_replace)\n",
    "    titanic_test['Title'] = titanic_test['Title'].replace(titles_to_replace, other_list)\n",
    "    dummies_title = pd.get_dummies(titanic_test.Title, prefix='Title')\n",
    "    titanic_test = pd.concat([titanic_test, dummies_title], axis=1)\n",
    "    \n",
    "    # Sex Column \n",
    "    sex = ['male', 'female']\n",
    "    encoder1 = preprocessing.LabelEncoder()\n",
    "    encoder1.fit(sex)\n",
    "    encoder1.classes_ = np.array(sex)\n",
    "    titanic_test['Sex'] = encoder1.transform(titanic_test['Sex'])\n",
    "    titanic_test['Sex'].astype(int)\n",
    "    \n",
    "    # Age Column\n",
    "    mean_age = int(titanic_test.Age.mean())\n",
    "    titanic_test['Age'].fillna(mean_age, inplace=True)\n",
    "    \n",
    "    \n",
    "    # Embarked Column\n",
    "    mode_embarked = titanic_test.Embarked.mode()[0]\n",
    "    titanic_test['Embarked'].fillna(mode_embarked, inplace=True)\n",
    "    dummies_emb = pd.get_dummies(titanic_test.Embarked, prefix='Embarked')\n",
    "    titanic_test = pd.concat([titanic_test, dummies_emb], axis=1)\n",
    "    \n",
    "    # Fare Column\n",
    "    titanic_test[\"Fare\"].fillna(titanic_test.groupby(\"Pclass\")[\"Fare\"].transform(\"median\"), inplace=True)\n",
    "    titanic_test['Fare'] = titanic_test['Fare'].fillna(0)\n",
    "    titanic_test['Fare'] = titanic_test['Fare'].astype(int)\n",
    "\n",
    "    # Deck Column\n",
    "    titanic_test['Deck'] = titanic_test['Cabin'].copy()\n",
    "    titanic_test['Deck'] = titanic_test['Deck'].str[0]\n",
    "\n",
    "    titanic_test['Deck'].fillna('0', inplace=True)\n",
    "\n",
    "    decks = sorted(titanic_test['Deck'].unique())\n",
    "    encoder2 = preprocessing.LabelEncoder()\n",
    "    encoder2.fit(decks)\n",
    "    encoder2.classes_ = np.array(decks)\n",
    "    titanic_test['Deck'] = encoder2.transform(titanic_test['Deck'])\n",
    "    titanic_test['Deck'].astype(int)\n",
    "\n",
    "    # Relatives Column\n",
    "    titanic_test['Relatives'] = titanic_test['SibSp'] + titanic_test['Parch']\n",
    "    titanic_test.loc[titanic_test['Relatives'] > 0, 'Not_alone'] = 0\n",
    "    titanic_test.loc[titanic_test['Relatives'] == 0, 'Not_alone'] = 1\n",
    "    titanic_test['Not_alone'] = titanic_test['Not_alone'].astype(int)\n",
    "    \n",
    "    # Age times Class\n",
    "    titanic_test['Age_Class']= titanic_test['Age'] * titanic_test['Pclass']\n",
    "    \n",
    "    # Fer per person\n",
    "    titanic_test['Fare_Per_Person'] = titanic_test['Fare']/(titanic_test['Relatives']+1)\n",
    "    titanic_test['Fare_Per_Person'] = titanic_test['Fare_Per_Person'].astype(int)\n",
    "    \n",
    "    # Dropping irrelevant columns\n",
    "    titanic_test.drop(['Embarked','Cabin', 'Name', 'Title'], axis=1, inplace=True)\n",
    "    \n",
    "    \n",
    "    Xtest_transformed = titanic_test.drop('Survived', axis=1)\n",
    "    Ytest_transformed = titanic_test['Survived']\n",
    "    \n",
    "    return Xtest_transformed, Ytest_transformed\n",
    "\n",
    "def make_prediction(data):\n",
    "    \n",
    "    X_titanic_test, y_titanic_test = test_file_transformation(data)\n",
    "\n",
    "\n",
    "    standard_scaler = preprocessing.StandardScaler()\n",
    "    standard_scaler.fit(X_titanic_test)\n",
    "        \n",
    "    X_final_test_scaled = standard_scaler.transform(X_titanic_test)\n",
    "        \n",
    "    knn6 = KNeighborsClassifier(n_neighbors=10, p=2)\n",
    "    knn6.fit(Xtrain_minmax, y_train)\n",
    "\n",
    "    knn_test_predictions = knn6.predict(X_final_test_scaled)\n",
    "    \n",
    "\n",
    "    return knn_test_predictions, y_titanic_test"
   ]
  },
  {
   "cell_type": "code",
   "execution_count": 51,
   "metadata": {},
   "outputs": [
    {
     "ename": "FileNotFoundError",
     "evalue": "[Errno 2] No such file or directory: '***ENTER YOUR CSV FILE***'",
     "output_type": "error",
     "traceback": [
      "\u001b[0;31m---------------------------------------------------------------------------\u001b[0m",
      "\u001b[0;31mFileNotFoundError\u001b[0m                         Traceback (most recent call last)",
      "\u001b[0;32m<ipython-input-51-429cb2fdcc57>\u001b[0m in \u001b[0;36m<module>\u001b[0;34m\u001b[0m\n\u001b[1;32m      1\u001b[0m \u001b[0mtest_file_name\u001b[0m \u001b[0;34m=\u001b[0m \u001b[0;34m\"***ENTER YOUR CSV FILE***\"\u001b[0m \u001b[0;31m# enter csv test set file name\u001b[0m\u001b[0;34m\u001b[0m\u001b[0;34m\u001b[0m\u001b[0m\n\u001b[1;32m      2\u001b[0m \u001b[0;34m\u001b[0m\u001b[0m\n\u001b[0;32m----> 3\u001b[0;31m \u001b[0mknn_test_predictions\u001b[0m\u001b[0;34m,\u001b[0m \u001b[0mtrue_y\u001b[0m \u001b[0;34m=\u001b[0m \u001b[0mmake_prediction\u001b[0m\u001b[0;34m(\u001b[0m\u001b[0mtest_file_name\u001b[0m\u001b[0;34m)\u001b[0m\u001b[0;34m\u001b[0m\u001b[0;34m\u001b[0m\u001b[0m\n\u001b[0m\u001b[1;32m      4\u001b[0m \u001b[0mprint\u001b[0m\u001b[0;34m(\u001b[0m\u001b[0mknn_test_predictions\u001b[0m\u001b[0;34m)\u001b[0m\u001b[0;34m\u001b[0m\u001b[0;34m\u001b[0m\u001b[0m\n\u001b[1;32m      5\u001b[0m \u001b[0;34m\u001b[0m\u001b[0m\n",
      "\u001b[0;32m<ipython-input-50-b94bb1ef659e>\u001b[0m in \u001b[0;36mmake_prediction\u001b[0;34m(data)\u001b[0m\n\u001b[1;32m     79\u001b[0m \u001b[0;32mdef\u001b[0m \u001b[0mmake_prediction\u001b[0m\u001b[0;34m(\u001b[0m\u001b[0mdata\u001b[0m\u001b[0;34m)\u001b[0m\u001b[0;34m:\u001b[0m\u001b[0;34m\u001b[0m\u001b[0;34m\u001b[0m\u001b[0m\n\u001b[1;32m     80\u001b[0m \u001b[0;34m\u001b[0m\u001b[0m\n\u001b[0;32m---> 81\u001b[0;31m     \u001b[0mX_titanic_test\u001b[0m\u001b[0;34m,\u001b[0m \u001b[0my_titanic_test\u001b[0m \u001b[0;34m=\u001b[0m \u001b[0mtest_file_transformation\u001b[0m\u001b[0;34m(\u001b[0m\u001b[0mdata\u001b[0m\u001b[0;34m)\u001b[0m\u001b[0;34m\u001b[0m\u001b[0;34m\u001b[0m\u001b[0m\n\u001b[0m\u001b[1;32m     82\u001b[0m \u001b[0;34m\u001b[0m\u001b[0m\n\u001b[1;32m     83\u001b[0m \u001b[0;34m\u001b[0m\u001b[0m\n",
      "\u001b[0;32m<ipython-input-50-b94bb1ef659e>\u001b[0m in \u001b[0;36mtest_file_transformation\u001b[0;34m(test_file_name)\u001b[0m\n\u001b[1;32m      1\u001b[0m \u001b[0;32mdef\u001b[0m \u001b[0mtest_file_transformation\u001b[0m\u001b[0;34m(\u001b[0m\u001b[0mtest_file_name\u001b[0m\u001b[0;34m)\u001b[0m\u001b[0;34m:\u001b[0m\u001b[0;34m\u001b[0m\u001b[0;34m\u001b[0m\u001b[0m\n\u001b[1;32m      2\u001b[0m \u001b[0;34m\u001b[0m\u001b[0m\n\u001b[0;32m----> 3\u001b[0;31m     \u001b[0mdf\u001b[0m \u001b[0;34m=\u001b[0m \u001b[0mpd\u001b[0m\u001b[0;34m.\u001b[0m\u001b[0mread_csv\u001b[0m\u001b[0;34m(\u001b[0m\u001b[0mtest_file_name\u001b[0m\u001b[0;34m,\u001b[0m \u001b[0mheader\u001b[0m\u001b[0;34m=\u001b[0m\u001b[0;36m0\u001b[0m\u001b[0;34m)\u001b[0m\u001b[0;34m\u001b[0m\u001b[0;34m\u001b[0m\u001b[0m\n\u001b[0m\u001b[1;32m      4\u001b[0m     \u001b[0mtitanic_test\u001b[0m \u001b[0;34m=\u001b[0m \u001b[0mdf\u001b[0m\u001b[0;34m.\u001b[0m\u001b[0mcopy\u001b[0m\u001b[0;34m(\u001b[0m\u001b[0;34m)\u001b[0m\u001b[0;34m\u001b[0m\u001b[0;34m\u001b[0m\u001b[0m\n\u001b[1;32m      5\u001b[0m     \u001b[0mirrelevant_cols\u001b[0m \u001b[0;34m=\u001b[0m \u001b[0;34m[\u001b[0m\u001b[0;34m'PassengerId'\u001b[0m\u001b[0;34m,\u001b[0m \u001b[0;34m'Ticket'\u001b[0m\u001b[0;34m]\u001b[0m   \u001b[0;31m# dropping those columns because irrelevant for evaluation of data\u001b[0m\u001b[0;34m\u001b[0m\u001b[0;34m\u001b[0m\u001b[0m\n",
      "\u001b[0;32m~/opt/anaconda3/lib/python3.8/site-packages/pandas/io/parsers.py\u001b[0m in \u001b[0;36mread_csv\u001b[0;34m(filepath_or_buffer, sep, delimiter, header, names, index_col, usecols, squeeze, prefix, mangle_dupe_cols, dtype, engine, converters, true_values, false_values, skipinitialspace, skiprows, skipfooter, nrows, na_values, keep_default_na, na_filter, verbose, skip_blank_lines, parse_dates, infer_datetime_format, keep_date_col, date_parser, dayfirst, cache_dates, iterator, chunksize, compression, thousands, decimal, lineterminator, quotechar, quoting, doublequote, escapechar, comment, encoding, dialect, error_bad_lines, warn_bad_lines, delim_whitespace, low_memory, memory_map, float_precision, storage_options)\u001b[0m\n\u001b[1;32m    608\u001b[0m     \u001b[0mkwds\u001b[0m\u001b[0;34m.\u001b[0m\u001b[0mupdate\u001b[0m\u001b[0;34m(\u001b[0m\u001b[0mkwds_defaults\u001b[0m\u001b[0;34m)\u001b[0m\u001b[0;34m\u001b[0m\u001b[0;34m\u001b[0m\u001b[0m\n\u001b[1;32m    609\u001b[0m \u001b[0;34m\u001b[0m\u001b[0m\n\u001b[0;32m--> 610\u001b[0;31m     \u001b[0;32mreturn\u001b[0m \u001b[0m_read\u001b[0m\u001b[0;34m(\u001b[0m\u001b[0mfilepath_or_buffer\u001b[0m\u001b[0;34m,\u001b[0m \u001b[0mkwds\u001b[0m\u001b[0;34m)\u001b[0m\u001b[0;34m\u001b[0m\u001b[0;34m\u001b[0m\u001b[0m\n\u001b[0m\u001b[1;32m    611\u001b[0m \u001b[0;34m\u001b[0m\u001b[0m\n\u001b[1;32m    612\u001b[0m \u001b[0;34m\u001b[0m\u001b[0m\n",
      "\u001b[0;32m~/opt/anaconda3/lib/python3.8/site-packages/pandas/io/parsers.py\u001b[0m in \u001b[0;36m_read\u001b[0;34m(filepath_or_buffer, kwds)\u001b[0m\n\u001b[1;32m    460\u001b[0m \u001b[0;34m\u001b[0m\u001b[0m\n\u001b[1;32m    461\u001b[0m     \u001b[0;31m# Create the parser.\u001b[0m\u001b[0;34m\u001b[0m\u001b[0;34m\u001b[0m\u001b[0;34m\u001b[0m\u001b[0m\n\u001b[0;32m--> 462\u001b[0;31m     \u001b[0mparser\u001b[0m \u001b[0;34m=\u001b[0m \u001b[0mTextFileReader\u001b[0m\u001b[0;34m(\u001b[0m\u001b[0mfilepath_or_buffer\u001b[0m\u001b[0;34m,\u001b[0m \u001b[0;34m**\u001b[0m\u001b[0mkwds\u001b[0m\u001b[0;34m)\u001b[0m\u001b[0;34m\u001b[0m\u001b[0;34m\u001b[0m\u001b[0m\n\u001b[0m\u001b[1;32m    463\u001b[0m \u001b[0;34m\u001b[0m\u001b[0m\n\u001b[1;32m    464\u001b[0m     \u001b[0;32mif\u001b[0m \u001b[0mchunksize\u001b[0m \u001b[0;32mor\u001b[0m \u001b[0miterator\u001b[0m\u001b[0;34m:\u001b[0m\u001b[0;34m\u001b[0m\u001b[0;34m\u001b[0m\u001b[0m\n",
      "\u001b[0;32m~/opt/anaconda3/lib/python3.8/site-packages/pandas/io/parsers.py\u001b[0m in \u001b[0;36m__init__\u001b[0;34m(self, f, engine, **kwds)\u001b[0m\n\u001b[1;32m    817\u001b[0m             \u001b[0mself\u001b[0m\u001b[0;34m.\u001b[0m\u001b[0moptions\u001b[0m\u001b[0;34m[\u001b[0m\u001b[0;34m\"has_index_names\"\u001b[0m\u001b[0;34m]\u001b[0m \u001b[0;34m=\u001b[0m \u001b[0mkwds\u001b[0m\u001b[0;34m[\u001b[0m\u001b[0;34m\"has_index_names\"\u001b[0m\u001b[0;34m]\u001b[0m\u001b[0;34m\u001b[0m\u001b[0;34m\u001b[0m\u001b[0m\n\u001b[1;32m    818\u001b[0m \u001b[0;34m\u001b[0m\u001b[0m\n\u001b[0;32m--> 819\u001b[0;31m         \u001b[0mself\u001b[0m\u001b[0;34m.\u001b[0m\u001b[0m_engine\u001b[0m \u001b[0;34m=\u001b[0m \u001b[0mself\u001b[0m\u001b[0;34m.\u001b[0m\u001b[0m_make_engine\u001b[0m\u001b[0;34m(\u001b[0m\u001b[0mself\u001b[0m\u001b[0;34m.\u001b[0m\u001b[0mengine\u001b[0m\u001b[0;34m)\u001b[0m\u001b[0;34m\u001b[0m\u001b[0;34m\u001b[0m\u001b[0m\n\u001b[0m\u001b[1;32m    820\u001b[0m \u001b[0;34m\u001b[0m\u001b[0m\n\u001b[1;32m    821\u001b[0m     \u001b[0;32mdef\u001b[0m \u001b[0mclose\u001b[0m\u001b[0;34m(\u001b[0m\u001b[0mself\u001b[0m\u001b[0;34m)\u001b[0m\u001b[0;34m:\u001b[0m\u001b[0;34m\u001b[0m\u001b[0;34m\u001b[0m\u001b[0m\n",
      "\u001b[0;32m~/opt/anaconda3/lib/python3.8/site-packages/pandas/io/parsers.py\u001b[0m in \u001b[0;36m_make_engine\u001b[0;34m(self, engine)\u001b[0m\n\u001b[1;32m   1048\u001b[0m             )\n\u001b[1;32m   1049\u001b[0m         \u001b[0;31m# error: Too many arguments for \"ParserBase\"\u001b[0m\u001b[0;34m\u001b[0m\u001b[0;34m\u001b[0m\u001b[0;34m\u001b[0m\u001b[0m\n\u001b[0;32m-> 1050\u001b[0;31m         \u001b[0;32mreturn\u001b[0m \u001b[0mmapping\u001b[0m\u001b[0;34m[\u001b[0m\u001b[0mengine\u001b[0m\u001b[0;34m]\u001b[0m\u001b[0;34m(\u001b[0m\u001b[0mself\u001b[0m\u001b[0;34m.\u001b[0m\u001b[0mf\u001b[0m\u001b[0;34m,\u001b[0m \u001b[0;34m**\u001b[0m\u001b[0mself\u001b[0m\u001b[0;34m.\u001b[0m\u001b[0moptions\u001b[0m\u001b[0;34m)\u001b[0m  \u001b[0;31m# type: ignore[call-arg]\u001b[0m\u001b[0;34m\u001b[0m\u001b[0;34m\u001b[0m\u001b[0m\n\u001b[0m\u001b[1;32m   1051\u001b[0m \u001b[0;34m\u001b[0m\u001b[0m\n\u001b[1;32m   1052\u001b[0m     \u001b[0;32mdef\u001b[0m \u001b[0m_failover_to_python\u001b[0m\u001b[0;34m(\u001b[0m\u001b[0mself\u001b[0m\u001b[0;34m)\u001b[0m\u001b[0;34m:\u001b[0m\u001b[0;34m\u001b[0m\u001b[0;34m\u001b[0m\u001b[0m\n",
      "\u001b[0;32m~/opt/anaconda3/lib/python3.8/site-packages/pandas/io/parsers.py\u001b[0m in \u001b[0;36m__init__\u001b[0;34m(self, src, **kwds)\u001b[0m\n\u001b[1;32m   1865\u001b[0m \u001b[0;34m\u001b[0m\u001b[0m\n\u001b[1;32m   1866\u001b[0m         \u001b[0;31m# open handles\u001b[0m\u001b[0;34m\u001b[0m\u001b[0;34m\u001b[0m\u001b[0;34m\u001b[0m\u001b[0m\n\u001b[0;32m-> 1867\u001b[0;31m         \u001b[0mself\u001b[0m\u001b[0;34m.\u001b[0m\u001b[0m_open_handles\u001b[0m\u001b[0;34m(\u001b[0m\u001b[0msrc\u001b[0m\u001b[0;34m,\u001b[0m \u001b[0mkwds\u001b[0m\u001b[0;34m)\u001b[0m\u001b[0;34m\u001b[0m\u001b[0;34m\u001b[0m\u001b[0m\n\u001b[0m\u001b[1;32m   1868\u001b[0m         \u001b[0;32massert\u001b[0m \u001b[0mself\u001b[0m\u001b[0;34m.\u001b[0m\u001b[0mhandles\u001b[0m \u001b[0;32mis\u001b[0m \u001b[0;32mnot\u001b[0m \u001b[0;32mNone\u001b[0m\u001b[0;34m\u001b[0m\u001b[0;34m\u001b[0m\u001b[0m\n\u001b[1;32m   1869\u001b[0m         \u001b[0;32mfor\u001b[0m \u001b[0mkey\u001b[0m \u001b[0;32min\u001b[0m \u001b[0;34m(\u001b[0m\u001b[0;34m\"storage_options\"\u001b[0m\u001b[0;34m,\u001b[0m \u001b[0;34m\"encoding\"\u001b[0m\u001b[0;34m,\u001b[0m \u001b[0;34m\"memory_map\"\u001b[0m\u001b[0;34m,\u001b[0m \u001b[0;34m\"compression\"\u001b[0m\u001b[0;34m)\u001b[0m\u001b[0;34m:\u001b[0m\u001b[0;34m\u001b[0m\u001b[0;34m\u001b[0m\u001b[0m\n",
      "\u001b[0;32m~/opt/anaconda3/lib/python3.8/site-packages/pandas/io/parsers.py\u001b[0m in \u001b[0;36m_open_handles\u001b[0;34m(self, src, kwds)\u001b[0m\n\u001b[1;32m   1360\u001b[0m         \u001b[0mLet\u001b[0m \u001b[0mthe\u001b[0m \u001b[0mreaders\u001b[0m \u001b[0mopen\u001b[0m \u001b[0mIOHanldes\u001b[0m \u001b[0mafter\u001b[0m \u001b[0mthey\u001b[0m \u001b[0mare\u001b[0m \u001b[0mdone\u001b[0m \u001b[0;32mwith\u001b[0m \u001b[0mtheir\u001b[0m \u001b[0mpotential\u001b[0m \u001b[0mraises\u001b[0m\u001b[0;34m.\u001b[0m\u001b[0;34m\u001b[0m\u001b[0;34m\u001b[0m\u001b[0m\n\u001b[1;32m   1361\u001b[0m         \"\"\"\n\u001b[0;32m-> 1362\u001b[0;31m         self.handles = get_handle(\n\u001b[0m\u001b[1;32m   1363\u001b[0m             \u001b[0msrc\u001b[0m\u001b[0;34m,\u001b[0m\u001b[0;34m\u001b[0m\u001b[0;34m\u001b[0m\u001b[0m\n\u001b[1;32m   1364\u001b[0m             \u001b[0;34m\"r\"\u001b[0m\u001b[0;34m,\u001b[0m\u001b[0;34m\u001b[0m\u001b[0;34m\u001b[0m\u001b[0m\n",
      "\u001b[0;32m~/opt/anaconda3/lib/python3.8/site-packages/pandas/io/common.py\u001b[0m in \u001b[0;36mget_handle\u001b[0;34m(path_or_buf, mode, encoding, compression, memory_map, is_text, errors, storage_options)\u001b[0m\n\u001b[1;32m    640\u001b[0m                 \u001b[0merrors\u001b[0m \u001b[0;34m=\u001b[0m \u001b[0;34m\"replace\"\u001b[0m\u001b[0;34m\u001b[0m\u001b[0;34m\u001b[0m\u001b[0m\n\u001b[1;32m    641\u001b[0m             \u001b[0;31m# Encoding\u001b[0m\u001b[0;34m\u001b[0m\u001b[0;34m\u001b[0m\u001b[0;34m\u001b[0m\u001b[0m\n\u001b[0;32m--> 642\u001b[0;31m             handle = open(\n\u001b[0m\u001b[1;32m    643\u001b[0m                 \u001b[0mhandle\u001b[0m\u001b[0;34m,\u001b[0m\u001b[0;34m\u001b[0m\u001b[0;34m\u001b[0m\u001b[0m\n\u001b[1;32m    644\u001b[0m                 \u001b[0mioargs\u001b[0m\u001b[0;34m.\u001b[0m\u001b[0mmode\u001b[0m\u001b[0;34m,\u001b[0m\u001b[0;34m\u001b[0m\u001b[0;34m\u001b[0m\u001b[0m\n",
      "\u001b[0;31mFileNotFoundError\u001b[0m: [Errno 2] No such file or directory: '***ENTER YOUR CSV FILE***'"
     ]
    }
   ],
   "source": [
    "test_file_name = \"***ENTER YOUR CSV FILE***\" # enter csv test set file name \n",
    "\n",
    "knn_test_predictions, true_y = make_prediction(test_file_name)\n",
    "print(knn_test_predictions)\n",
    "\n",
    "test_accuracy = accuracy_score(knn_test_predictions, true_y)\n",
    "print(\"Accuracy on an independent test set:\", test_accuracy)"
   ]
  },
  {
   "cell_type": "code",
   "execution_count": null,
   "metadata": {},
   "outputs": [],
   "source": []
  },
  {
   "cell_type": "code",
   "execution_count": null,
   "metadata": {},
   "outputs": [],
   "source": []
  },
  {
   "cell_type": "code",
   "execution_count": null,
   "metadata": {},
   "outputs": [],
   "source": []
  }
 ],
 "metadata": {
  "kernelspec": {
   "display_name": "Python 3",
   "language": "python",
   "name": "python3"
  },
  "language_info": {
   "codemirror_mode": {
    "name": "ipython",
    "version": 3
   },
   "file_extension": ".py",
   "mimetype": "text/x-python",
   "name": "python",
   "nbconvert_exporter": "python",
   "pygments_lexer": "ipython3",
   "version": "3.8.8"
  }
 },
 "nbformat": 4,
 "nbformat_minor": 2
}
